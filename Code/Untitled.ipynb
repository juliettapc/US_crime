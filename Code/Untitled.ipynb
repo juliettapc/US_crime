{
 "cells": [
  {
   "cell_type": "code",
   "execution_count": 1,
   "metadata": {},
   "outputs": [
    {
     "data": {
      "text/html": [
       "<script>requirejs.config({paths: { 'plotly': ['https://cdn.plot.ly/plotly-latest.min']},});if(!window.Plotly) {{require(['plotly'],function(plotly) {window.Plotly=plotly;});}}</script>"
      ],
      "text/vnd.plotly.v1+html": [
       "<script>requirejs.config({paths: { 'plotly': ['https://cdn.plot.ly/plotly-latest.min']},});if(!window.Plotly) {{require(['plotly'],function(plotly) {window.Plotly=plotly;});}}</script>"
      ]
     },
     "metadata": {},
     "output_type": "display_data"
    },
    {
     "data": {
      "text/html": [
       "<style>.container { width:100% !important; }</style>"
      ],
      "text/plain": [
       "<IPython.core.display.HTML object>"
      ]
     },
     "metadata": {},
     "output_type": "display_data"
    }
   ],
   "source": [
    "import sys\n",
    "\n",
    "import datetime\n",
    "import pickle\n",
    "\n",
    "import numpy as np\n",
    "import pandas as pd\n",
    "import operator\n",
    "import random\n",
    "from  scipy import stats\n",
    "\n",
    "\n",
    "\n",
    "from scipy.stats import norm\n",
    "from sklearn.neighbors import KernelDensity\n",
    "\n",
    "\n",
    "\n",
    "import plotly.plotly as py\n",
    "import plotly.graph_objs as go\n",
    "from plotly import tools\n",
    "import plotly.figure_factory as ff\n",
    "\n",
    "import plotly\n",
    "plotly.tools.set_credentials_file(username='juliettapc', api_key='nM6iUdx6dGaOiPXQTwpP')   # go to: https://plot.ly/settings/api#/   for a new key if needed\n",
    "\n",
    "########## to be able to plot offline (without sending the plots to the plotly server every time)\n",
    "import plotly.offline as offline\n",
    "from plotly.graph_objs import *\n",
    "from plotly.offline import download_plotlyjs, init_notebook_mode, plot, iplot\n",
    "\n",
    "init_notebook_mode(connected=True)\n",
    "################\n",
    "\n",
    "\n",
    "\n",
    "from IPython.core.display import display,HTML\n",
    "display(HTML(\"<style>.container { width:100% !important; }</style>\"))  # to make the notebook use the entire width of the browser"
   ]
  },
  {
   "cell_type": "code",
   "execution_count": 9,
   "metadata": {
    "scrolled": true
   },
   "outputs": [],
   "source": [
    "\n",
    "df_crime_state_by_state =pd.read_csv('../Data/Mine/CrimeStatebyState_1960-2014_added_per100000.csv')\n",
    "\n",
    "#df_crime_state_by_state.head()\n",
    "\n",
    "df_crime_tot =pd.read_csv('../Data/Mine/Crime_TOTAL_US_1960_2014_Added_per100000.csv')\n",
    "\n",
    "#df_crime_tot.head()\n"
   ]
  },
  {
   "cell_type": "code",
   "execution_count": 7,
   "metadata": {
    "scrolled": true
   },
   "outputs": [
    {
     "data": {
      "text/html": [
       "<div>\n",
       "<style scoped>\n",
       "    .dataframe tbody tr th:only-of-type {\n",
       "        vertical-align: middle;\n",
       "    }\n",
       "\n",
       "    .dataframe tbody tr th {\n",
       "        vertical-align: top;\n",
       "    }\n",
       "\n",
       "    .dataframe thead th {\n",
       "        text-align: right;\n",
       "    }\n",
       "</style>\n",
       "<table border=\"1\" class=\"dataframe\">\n",
       "  <thead>\n",
       "    <tr style=\"text-align: right;\">\n",
       "      <th></th>\n",
       "      <th>Year</th>\n",
       "      <th>Population</th>\n",
       "      <th>Violent crime total</th>\n",
       "      <th>Murder and nonnegligent Manslaughter</th>\n",
       "      <th>Murder_per100000</th>\n",
       "      <th>Legacy rape /1</th>\n",
       "      <th>Revised rape /2</th>\n",
       "      <th>Robbery</th>\n",
       "      <th>Aggravated assault</th>\n",
       "    </tr>\n",
       "  </thead>\n",
       "  <tbody>\n",
       "    <tr>\n",
       "      <th>0</th>\n",
       "      <td>1960</td>\n",
       "      <td>179323175</td>\n",
       "      <td>288460</td>\n",
       "      <td>9110</td>\n",
       "      <td>5.080213</td>\n",
       "      <td>17190</td>\n",
       "      <td>NaN</td>\n",
       "      <td>107840</td>\n",
       "      <td>154320</td>\n",
       "    </tr>\n",
       "    <tr>\n",
       "      <th>1</th>\n",
       "      <td>1961</td>\n",
       "      <td>182992000</td>\n",
       "      <td>289390</td>\n",
       "      <td>8740</td>\n",
       "      <td>4.776165</td>\n",
       "      <td>17220</td>\n",
       "      <td>NaN</td>\n",
       "      <td>106670</td>\n",
       "      <td>156760</td>\n",
       "    </tr>\n",
       "    <tr>\n",
       "      <th>2</th>\n",
       "      <td>1962</td>\n",
       "      <td>185771000</td>\n",
       "      <td>301510</td>\n",
       "      <td>8530</td>\n",
       "      <td>4.591675</td>\n",
       "      <td>17550</td>\n",
       "      <td>NaN</td>\n",
       "      <td>110860</td>\n",
       "      <td>164570</td>\n",
       "    </tr>\n",
       "    <tr>\n",
       "      <th>3</th>\n",
       "      <td>1963</td>\n",
       "      <td>188483000</td>\n",
       "      <td>316970</td>\n",
       "      <td>8640</td>\n",
       "      <td>4.583968</td>\n",
       "      <td>17650</td>\n",
       "      <td>NaN</td>\n",
       "      <td>116470</td>\n",
       "      <td>174210</td>\n",
       "    </tr>\n",
       "    <tr>\n",
       "      <th>4</th>\n",
       "      <td>1964</td>\n",
       "      <td>191141000</td>\n",
       "      <td>364220</td>\n",
       "      <td>9360</td>\n",
       "      <td>4.896909</td>\n",
       "      <td>21420</td>\n",
       "      <td>NaN</td>\n",
       "      <td>130390</td>\n",
       "      <td>203050</td>\n",
       "    </tr>\n",
       "  </tbody>\n",
       "</table>\n",
       "</div>"
      ],
      "text/plain": [
       "   Year  Population  Violent crime total  \\\n",
       "0  1960   179323175               288460   \n",
       "1  1961   182992000               289390   \n",
       "2  1962   185771000               301510   \n",
       "3  1963   188483000               316970   \n",
       "4  1964   191141000               364220   \n",
       "\n",
       "   Murder and nonnegligent Manslaughter  Murder_per100000  Legacy rape /1  \\\n",
       "0                                  9110          5.080213           17190   \n",
       "1                                  8740          4.776165           17220   \n",
       "2                                  8530          4.591675           17550   \n",
       "3                                  8640          4.583968           17650   \n",
       "4                                  9360          4.896909           21420   \n",
       "\n",
       "   Revised rape /2  Robbery  Aggravated assault  \n",
       "0              NaN   107840              154320  \n",
       "1              NaN   106670              156760  \n",
       "2              NaN   110860              164570  \n",
       "3              NaN   116470              174210  \n",
       "4              NaN   130390              203050  "
      ]
     },
     "execution_count": 7,
     "metadata": {},
     "output_type": "execute_result"
    }
   ],
   "source": []
  },
  {
   "cell_type": "code",
   "execution_count": 5,
   "metadata": {},
   "outputs": [
    {
     "data": {
      "text/plain": [
       "'file:///home/staff/julia/at_Northwestern/US_Crime/Figures/time_evol_tot_crime.html'"
      ]
     },
     "execution_count": 5,
     "metadata": {},
     "output_type": "execute_result"
    }
   ],
   "source": [
    "# Create and style traces\n",
    "\n",
    "data = []\n",
    "\n",
    "trace0 = go.Scatter(\n",
    "    x = df_crime_tot['Year'],\n",
    "    y = df_crime_tot['Murder_per100000'],\n",
    "    name = 'tot. US crime',\n",
    "#     line = dict(\n",
    "#         color = ('rgb(205, 12, 24)'),\n",
    "#         width = 4)\n",
    ")\n",
    "data.append(trace0)\n",
    "\n",
    "for state in df_crime_state_by_state.State.unique():\n",
    "    \n",
    "    df_sected_crime = df_crime_state_by_state[df_crime_state_by_state['State']== state ]\n",
    "    \n",
    "    \n",
    "    trace1 = go.Scatter(\n",
    "        x = df_sected_crime['Year'],\n",
    "        y = df_sected_crime['Murder_per100000'],\n",
    "        name = state,\n",
    "\n",
    "    )\n",
    "    data.append(trace1)\n",
    "\n",
    "    \n",
    "# Edit the layout\n",
    "layout = dict(\n",
    "#     title = 'Average High and Low Temperatures in New York',\n",
    "              xaxis = dict(title = 'Year'),\n",
    "              yaxis = dict(title = 'Average number of murders per 100,000 people'),\n",
    "              )\n",
    "\n",
    "fig = dict(data=data, layout=layout)\n",
    "\n",
    "\n",
    "\n",
    "offline.plot(fig, auto_open=True, image = 'png', image_filename=\"time_evol_tot_crime\" ,image_width=2000, image_height=1000, \n",
    "              filename='/home/staff/julia/at_Northwestern/US_Crime/Figures/time_evol_tot_crime.html', validate=True)\n",
    "\n",
    "\n"
   ]
  },
  {
   "cell_type": "code",
   "execution_count": null,
   "metadata": {},
   "outputs": [],
   "source": []
  },
  {
   "cell_type": "code",
   "execution_count": null,
   "metadata": {},
   "outputs": [],
   "source": []
  }
 ],
 "metadata": {
  "kernelspec": {
   "display_name": "Python 3",
   "language": "python",
   "name": "python3"
  },
  "language_info": {
   "codemirror_mode": {
    "name": "ipython",
    "version": 3
   },
   "file_extension": ".py",
   "mimetype": "text/x-python",
   "name": "python",
   "nbconvert_exporter": "python",
   "pygments_lexer": "ipython3",
   "version": "3.6.4"
  }
 },
 "nbformat": 4,
 "nbformat_minor": 2
}
