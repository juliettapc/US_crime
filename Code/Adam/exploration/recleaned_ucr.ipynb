{
 "cells": [
  {
   "cell_type": "code",
   "execution_count": 1,
   "metadata": {
    "collapsed": true
   },
   "outputs": [],
   "source": [
    "%matplotlib inline"
   ]
  },
  {
   "cell_type": "code",
   "execution_count": 2,
   "metadata": {
    "collapsed": true
   },
   "outputs": [],
   "source": [
    "import pandas as pd\n",
    "import matplotlib.pyplot as plt\n",
    "import glob\n",
    "import numpy as np\n",
    "\n",
    "import sys\n",
    "sys.path.append('../support')\n",
    "import data_functions as dfunc\n",
    "\n",
    "%matplotlib inline\n",
    "import matplotlib.pyplot as plt\n",
    "import seaborn as sns\n",
    "sns.set_context('talk')\n",
    "sns.set_style({'font.family': 'sans-serif', \n",
    "               'font.sans-serif': 'Arial Narrow', \n",
    "               'font.size': 18})"
   ]
  },
  {
   "cell_type": "markdown",
   "metadata": {},
   "source": [
    "# Now how much are we losing as move from cities to MSAs"
   ]
  },
  {
   "cell_type": "code",
   "execution_count": 3,
   "metadata": {
    "collapsed": false
   },
   "outputs": [
    {
     "data": {
      "text/html": [
       "<div>\n",
       "<table border=\"1\" class=\"dataframe\">\n",
       "  <thead>\n",
       "    <tr style=\"text-align: right;\">\n",
       "      <th></th>\n",
       "      <th>City</th>\n",
       "      <th>State</th>\n",
       "      <th>fipst</th>\n",
       "      <th>stategips</th>\n",
       "      <th>ucrfips</th>\n",
       "      <th>fipscounty</th>\n",
       "      <th>cbsa</th>\n",
       "      <th>msa</th>\n",
       "      <th>ssast</th>\n",
       "    </tr>\n",
       "  </thead>\n",
       "  <tbody>\n",
       "    <tr>\n",
       "      <th>0</th>\n",
       "      <td>Montgomery</td>\n",
       "      <td>AL</td>\n",
       "      <td>1</td>\n",
       "      <td>1</td>\n",
       "      <td>1</td>\n",
       "      <td>1001</td>\n",
       "      <td>33860</td>\n",
       "      <td>5240</td>\n",
       "      <td>1</td>\n",
       "    </tr>\n",
       "    <tr>\n",
       "      <th>1</th>\n",
       "      <td>Montgomery</td>\n",
       "      <td>AL</td>\n",
       "      <td>1</td>\n",
       "      <td>1</td>\n",
       "      <td>51</td>\n",
       "      <td>1051</td>\n",
       "      <td>33860</td>\n",
       "      <td>5240</td>\n",
       "      <td>1</td>\n",
       "    </tr>\n",
       "    <tr>\n",
       "      <th>2</th>\n",
       "      <td>Montgomery</td>\n",
       "      <td>AL</td>\n",
       "      <td>1</td>\n",
       "      <td>1</td>\n",
       "      <td>85</td>\n",
       "      <td>1085</td>\n",
       "      <td>33860</td>\n",
       "      <td>01</td>\n",
       "      <td>1</td>\n",
       "    </tr>\n",
       "    <tr>\n",
       "      <th>3</th>\n",
       "      <td>Montgomery</td>\n",
       "      <td>AL</td>\n",
       "      <td>1</td>\n",
       "      <td>1</td>\n",
       "      <td>101</td>\n",
       "      <td>1101</td>\n",
       "      <td>33860</td>\n",
       "      <td>5240</td>\n",
       "      <td>1</td>\n",
       "    </tr>\n",
       "    <tr>\n",
       "      <th>4</th>\n",
       "      <td>Miami</td>\n",
       "      <td>FL</td>\n",
       "      <td>12</td>\n",
       "      <td>12</td>\n",
       "      <td>86</td>\n",
       "      <td>12086</td>\n",
       "      <td>33124</td>\n",
       "      <td>5000</td>\n",
       "      <td>10</td>\n",
       "    </tr>\n",
       "  </tbody>\n",
       "</table>\n",
       "</div>"
      ],
      "text/plain": [
       "         City State  fipst  stategips  ucrfips  fipscounty   cbsa   msa  ssast\n",
       "0  Montgomery    AL      1          1        1        1001  33860  5240      1\n",
       "1  Montgomery    AL      1          1       51        1051  33860  5240      1\n",
       "2  Montgomery    AL      1          1       85        1085  33860    01      1\n",
       "3  Montgomery    AL      1          1      101        1101  33860  5240      1\n",
       "4       Miami    FL     12         12       86       12086  33124  5000     10"
      ]
     },
     "execution_count": 3,
     "metadata": {},
     "output_type": "execute_result"
    }
   ],
   "source": [
    "mergedf = pd.read_csv('../../Data/crosswalks/city_msa_crosswalk.csv',\n",
    "                      dtype = {'msa': object, 'cbsa' : object}, \n",
    "                      index_col = 0)\n",
    "mergedf.head()"
   ]
  },
  {
   "cell_type": "code",
   "execution_count": 4,
   "metadata": {
    "collapsed": false
   },
   "outputs": [
    {
     "data": {
      "text/plain": [
       "80"
      ]
     },
     "execution_count": 4,
     "metadata": {},
     "output_type": "execute_result"
    }
   ],
   "source": [
    "len(mergedf.cbsa.unique())"
   ]
  },
  {
   "cell_type": "code",
   "execution_count": 5,
   "metadata": {
    "collapsed": false
   },
   "outputs": [],
   "source": [
    "names = [','.join(lset) for lset in mergedf.loc[:, ['cbsa', 'City', 'State']].values.tolist()]\n",
    "names = list(set(names))\n",
    "name_dict = {}\n",
    "for nset in names:\n",
    "    cnum, city, state = nset.split(',')\n",
    "    loc = ','.join([city, state])\n",
    "    if cnum not in name_dict:\n",
    "        name_dict[cnum] = []\n",
    "    name_dict[cnum].append(loc)\n",
    "for cnum in name_dict:\n",
    "    name_dict[cnum] = '-'.join(name_dict[cnum])\n",
    "namedf = pd.DataFrame({'cbsa': list(name_dict.keys()), 'areaname':list(name_dict.values())})"
   ]
  },
  {
   "cell_type": "markdown",
   "metadata": {},
   "source": [
    "## So we lose 11 (from 88 to ~~77~~ 79) areas, and our city population counts will be off.....\n",
    "\n",
    "Let's proceed and start merging it all up"
   ]
  },
  {
   "cell_type": "code",
   "execution_count": 6,
   "metadata": {
    "collapsed": false
   },
   "outputs": [],
   "source": [
    "gdf = mergedf.groupby('cbsa')"
   ]
  },
  {
   "cell_type": "code",
   "execution_count": 7,
   "metadata": {
    "collapsed": false
   },
   "outputs": [
    {
     "name": "stdout",
     "output_type": "stream",
     "text": [
      "80\n"
     ]
    }
   ],
   "source": [
    "cbsa_numbers = list(gdf.groups.keys())\n",
    "print( len(cbsa_numbers) )"
   ]
  },
  {
   "cell_type": "markdown",
   "metadata": {},
   "source": [
    "# ~~Load the census data because populatoin from the ucr can't be trusted~~\n",
    "\n",
    "Yeah, no. The census data is way too off because of the movement from city to MSA. Don't bother"
   ]
  },
  {
   "cell_type": "markdown",
   "metadata": {},
   "source": [
    "#  Now I want to load the ucr data"
   ]
  },
  {
   "cell_type": "code",
   "execution_count": 8,
   "metadata": {
    "collapsed": false
   },
   "outputs": [],
   "source": [
    "dfset = []\n",
    "for fname in glob.glob('../../Data/ucr_clean/*.csv'):\n",
    "    tdf = pd.read_csv(fname, index_col = 0, low_memory = False,\n",
    "                      dtype = {17: object })\n",
    "    tdf['year'] = int(fname.split('_')[-1].split('.csv')[0])\n",
    "    dfset.append(tdf)\n",
    "ucrdf = pd.concat(dfset)\n",
    "ucrdf.msa = ucrdf.msa.astype(object)"
   ]
  },
  {
   "cell_type": "code",
   "execution_count": null,
   "metadata": {
    "collapsed": false
   },
   "outputs": [],
   "source": []
  },
  {
   "cell_type": "markdown",
   "metadata": {},
   "source": [
    "## Info\n",
    "\n",
    "* ORI is originating office, most reliable but would have to create ori to city\n",
    "* ICPSR has datasets that would connect this to census data\n",
    "* City core is reliable...but nowhere to match to\n",
    "* Need to watch 9/12 months\n",
    "* pop1, 2, and 3 will hold population.\n"
   ]
  },
  {
   "cell_type": "code",
   "execution_count": 9,
   "metadata": {
    "collapsed": true
   },
   "outputs": [],
   "source": [
    "# for i, (c, v) in enumerate( zip(ucrdf.columns, ucrdf.iloc[0]) ):\n",
    "#     print(i, v, c)"
   ]
  },
  {
   "cell_type": "markdown",
   "metadata": {},
   "source": [
    "# The 'msa' in the ucrdf is actually the 'ucrfips' in my mergedf"
   ]
  },
  {
   "cell_type": "code",
   "execution_count": 19,
   "metadata": {
    "collapsed": false
   },
   "outputs": [],
   "source": [
    "ucrdf.rename(columns = {\"msa\": \"ucrfips\"}, inplace=True)\n",
    "subucrdf = ucrdf[ucrdf.ucrfips.isin(mergedf.ucrfips)]\n",
    "ucrdf.ucrfips = ucrdf.ucrfips.astype(object, inplace=True)"
   ]
  },
  {
   "cell_type": "markdown",
   "metadata": {
    "collapsed": false
   },
   "source": [
    "# Great. \n",
    "So now we need to go through and create a dataframe of yearly counts of existence and the total count"
   ]
  },
  {
   "cell_type": "code",
   "execution_count": 20,
   "metadata": {
    "collapsed": false
   },
   "outputs": [],
   "source": [
    "ucr_rows = {}\n",
    "for cbsa_key, row_indices in gdf.groups.items():\n",
    "    ucr_rows[cbsa_key] = []\n",
    "    #Get the ucrfips for the cbsa key\n",
    "    ufips = mergedf.iloc[row_indices].ucrfips.values.tolist()\n",
    "    #Add all of the rows for each cbsa key to a list\n",
    "    for ufip in ufips:\n",
    "        ucr_rows[cbsa_key].append(ucrdf[ucrdf.ucrfips == ufip])\n",
    "#Turn the fips dfset into a single dataframe for each cbsa\n",
    "cbsa_ucrdf = {}\n",
    "for cbsa_key, cbsa_dfset in ucr_rows.items():\n",
    "    cbsa_ucrdf[cbsa_key] = pd.concat(cbsa_dfset)"
   ]
  },
  {
   "cell_type": "markdown",
   "metadata": {},
   "source": [
    "## Need to add all rows for the same year together"
   ]
  },
  {
   "cell_type": "code",
   "execution_count": 21,
   "metadata": {
    "collapsed": false
   },
   "outputs": [],
   "source": [
    "mo_names = [m + '_murder' for m in ['jan', 'feb', 'mar', 'apr', 'may', 'jun', 'jul', 'aug', 'sept', 'oct', 'nov', 'dec']]\n",
    "#pop_names = ['population1', 'population2', 'population3']\n",
    "#pop_names = ['population1']\n",
    "# pop_names = ['pop1_last_census', 'pop2_last_census', 'pop3_last_census']\n",
    "full_cols = mo_names \n",
    "\n",
    "def base_cleaner(x):\n",
    "    import re\n",
    "    if type(x) == str:\n",
    "        last_val = x.split('0')[-1]\n",
    "        if last_val == '':\n",
    "            return 0\n",
    "        else:\n",
    "            if last_val.isnumeric():\n",
    "                return int(last_val)\n",
    "            else:\n",
    "                #print(last_val)\n",
    "                return 0\n",
    "    else:\n",
    "        return x\n",
    "    \n",
    "def year_grouper(cbsadf, cbsanum):\n",
    "    #Get the subset\n",
    "    ygdf = cbsadf.loc[:, ['year'] + full_cols]\n",
    "    #group the data frame by year and sum\n",
    "    year_sum = ygdf.groupby('year').agg(sum)\n",
    "    #Now we need to get the counts for MM/YY\n",
    "    sums = []\n",
    "    temp_sum = []\n",
    "    for tyear in year_sum.index: \n",
    "        temp_sum = []\n",
    "        for mo_index, mo_name in enumerate(mo_names):\n",
    "            mo_sum = year_sum.loc[tyear,mo_name]\n",
    "            temp_sum.append(mo_sum)\n",
    "            sums.append([cbsanum, int(tyear), mo_index + 1, mo_sum])\n",
    "        if len(list(set(temp_sum))) == 1 and set(temp_sum) != {0}:\n",
    "            print('problem with ', cbsanum, 'year ', tyear)\n",
    "            print(temp_sum)\n",
    "    #Make it into a dataframe\n",
    "    citydf = pd.DataFrame(sums, columns = ['cbsa', 'year', 'month', 'murder'])\n",
    "    return citydf\n",
    "    "
   ]
  },
  {
   "cell_type": "markdown",
   "metadata": {},
   "source": [
    "# Need to give up on the population numbers from the UCR, they are completely fucked and trying to correct them will be a monumental task. The ones we have already from the census should be close enough to maintain correct order of magnitueds"
   ]
  },
  {
   "cell_type": "code",
   "execution_count": null,
   "metadata": {
    "collapsed": false
   },
   "outputs": [],
   "source": []
  },
  {
   "cell_type": "code",
   "execution_count": 22,
   "metadata": {
    "collapsed": false
   },
   "outputs": [],
   "source": [
    "ucr_rows = {}\n",
    "for cbsa_key, row_indices in gdf.groups.items():\n",
    "    ucr_rows[cbsa_key] = []\n",
    "    #Get the ucrfips for the cbsa key\n",
    "    ufips = mergedf.iloc[row_indices].ucrfips.values.tolist()\n",
    "    #Add all of the rows for each cbsa key to a list\n",
    "    for ufip in ufips:\n",
    "        ucr_rows[cbsa_key].append(ucrdf[ucrdf.ucrfips == ufip])\n",
    "        \n",
    "#Turn the fips dfset into a single dataframe for each cbsa\n",
    "cbsa_ucrdf = {}\n",
    "for cbsa_key, cbsa_dfset in ucr_rows.items():\n",
    "    cbsa_ucrdf[cbsa_key] = pd.concat(cbsa_dfset)\n",
    "    \n",
    "for cbsanum in cbsa_ucrdf:\n",
    "    cbsa_ucrdf[cbsanum][mo_names] = cbsa_ucrdf[cbsanum][mo_names].applymap(base_cleaner)\n",
    "    cbsa_ucrdf[cbsanum][full_cols] = cbsa_ucrdf[cbsanum][full_cols].applymap(pd.to_numeric)\n",
    "    "
   ]
  },
  {
   "cell_type": "code",
   "execution_count": 23,
   "metadata": {
    "collapsed": false
   },
   "outputs": [],
   "source": [
    "city_dfset = []\n",
    "cbsa_deadset = []\n",
    "for cbsanum, cbsadf in list(cbsa_ucrdf.items()):\n",
    "    if len(cbsadf) != 0:\n",
    "        city_dfset.append( year_grouper(cbsadf, cbsanum) )\n",
    "    else:\n",
    "        cbsa_deadset.append(cbsanum)\n",
    "        \n",
    "crime_df = pd.concat(city_dfset)"
   ]
  },
  {
   "cell_type": "code",
   "execution_count": 24,
   "metadata": {
    "collapsed": false,
    "scrolled": true
   },
   "outputs": [],
   "source": [
    "mcrimedf = pd.merge(crime_df, mergedf, on='cbsa') "
   ]
  },
  {
   "cell_type": "code",
   "execution_count": 41,
   "metadata": {
    "collapsed": false
   },
   "outputs": [
    {
     "data": {
      "text/html": [
       "<div>\n",
       "<table border=\"1\" class=\"dataframe\">\n",
       "  <thead>\n",
       "    <tr style=\"text-align: right;\">\n",
       "      <th></th>\n",
       "      <th>cbsa</th>\n",
       "      <th>year</th>\n",
       "      <th>month</th>\n",
       "      <th>murder</th>\n",
       "      <th>City</th>\n",
       "      <th>State</th>\n",
       "      <th>fipst</th>\n",
       "      <th>stategips</th>\n",
       "      <th>ucrfips</th>\n",
       "      <th>fipscounty</th>\n",
       "      <th>msa</th>\n",
       "      <th>ssast</th>\n",
       "    </tr>\n",
       "  </thead>\n",
       "  <tbody>\n",
       "    <tr>\n",
       "      <th>216317</th>\n",
       "      <td>16974</td>\n",
       "      <td>1990</td>\n",
       "      <td>1</td>\n",
       "      <td>76.0</td>\n",
       "      <td>Chicago</td>\n",
       "      <td>IL</td>\n",
       "      <td>17</td>\n",
       "      <td>17</td>\n",
       "      <td>31</td>\n",
       "      <td>17031</td>\n",
       "      <td>1600</td>\n",
       "      <td>14</td>\n",
       "    </tr>\n",
       "    <tr>\n",
       "      <th>216318</th>\n",
       "      <td>16974</td>\n",
       "      <td>1990</td>\n",
       "      <td>1</td>\n",
       "      <td>76.0</td>\n",
       "      <td>Chicago</td>\n",
       "      <td>IL</td>\n",
       "      <td>17</td>\n",
       "      <td>17</td>\n",
       "      <td>63</td>\n",
       "      <td>17063</td>\n",
       "      <td>1600</td>\n",
       "      <td>14</td>\n",
       "    </tr>\n",
       "    <tr>\n",
       "      <th>216319</th>\n",
       "      <td>16974</td>\n",
       "      <td>1990</td>\n",
       "      <td>1</td>\n",
       "      <td>76.0</td>\n",
       "      <td>Chicago</td>\n",
       "      <td>IL</td>\n",
       "      <td>17</td>\n",
       "      <td>17</td>\n",
       "      <td>89</td>\n",
       "      <td>17089</td>\n",
       "      <td>1600</td>\n",
       "      <td>14</td>\n",
       "    </tr>\n",
       "    <tr>\n",
       "      <th>216320</th>\n",
       "      <td>16974</td>\n",
       "      <td>1990</td>\n",
       "      <td>1</td>\n",
       "      <td>76.0</td>\n",
       "      <td>Chicago</td>\n",
       "      <td>IL</td>\n",
       "      <td>17</td>\n",
       "      <td>17</td>\n",
       "      <td>93</td>\n",
       "      <td>17093</td>\n",
       "      <td>1600</td>\n",
       "      <td>14</td>\n",
       "    </tr>\n",
       "    <tr>\n",
       "      <th>216321</th>\n",
       "      <td>16974</td>\n",
       "      <td>1990</td>\n",
       "      <td>1</td>\n",
       "      <td>76.0</td>\n",
       "      <td>Chicago</td>\n",
       "      <td>IL</td>\n",
       "      <td>17</td>\n",
       "      <td>17</td>\n",
       "      <td>197</td>\n",
       "      <td>17197</td>\n",
       "      <td>1600</td>\n",
       "      <td>14</td>\n",
       "    </tr>\n",
       "  </tbody>\n",
       "</table>\n",
       "</div>"
      ],
      "text/plain": [
       "         cbsa  year  month  murder     City State  fipst  stategips  ucrfips  \\\n",
       "216317  16974  1990      1    76.0  Chicago    IL     17         17       31   \n",
       "216318  16974  1990      1    76.0  Chicago    IL     17         17       63   \n",
       "216319  16974  1990      1    76.0  Chicago    IL     17         17       89   \n",
       "216320  16974  1990      1    76.0  Chicago    IL     17         17       93   \n",
       "216321  16974  1990      1    76.0  Chicago    IL     17         17      197   \n",
       "\n",
       "        fipscounty   msa  ssast  \n",
       "216317       17031  1600     14  \n",
       "216318       17063  1600     14  \n",
       "216319       17089  1600     14  \n",
       "216320       17093  1600     14  \n",
       "216321       17197  1600     14  "
      ]
     },
     "execution_count": 41,
     "metadata": {},
     "output_type": "execute_result"
    }
   ],
   "source": [
    "mcrimedf[(mcrimedf.year == 1990) & (mcrimedf.month == 1) & (mcrimedf.City == 'Chicago')]"
   ]
  },
  {
   "cell_type": "markdown",
   "metadata": {},
   "source": [
    "# Now we need to merge the population data with the crime data frame"
   ]
  },
  {
   "cell_type": "code",
   "execution_count": 32,
   "metadata": {
    "collapsed": false
   },
   "outputs": [],
   "source": [
    "# fulldf = pd.merge(mcrimedf, cbsa_censusdf, on=['cbsa', 'year'])\n",
    "# fulldf.head()"
   ]
  },
  {
   "cell_type": "markdown",
   "metadata": {
    "collapsed": true
   },
   "source": [
    "# Perfect - our ppopulation now seems to be in order so we can proceed"
   ]
  },
  {
   "cell_type": "code",
   "execution_count": 33,
   "metadata": {
    "collapsed": false
   },
   "outputs": [],
   "source": [
    "yeardata = mcrimedf.loc[:, ['cbsa', 'year']].groupby('cbsa').agg([min, max])"
   ]
  },
  {
   "cell_type": "code",
   "execution_count": 34,
   "metadata": {
    "collapsed": false
   },
   "outputs": [
    {
     "data": {
      "image/png": "[encoded data removed]",
      "text/plain": [
       "<matplotlib.figure.Figure at 0x3170c1d68>"
      ]
     },
     "metadata": {},
     "output_type": "display_data"
    }
   ],
   "source": [
    "#Add in the deadset\n",
    "xnames = yeardata.index.values.tolist()\n",
    "yeardata['name'] = [name_dict[str(x)] for x in xnames]\n",
    "yeardata.sort_values('name', inplace=True)\n",
    "xnames = yeardata.index.values.tolist() + cbsa_deadset\n",
    "\n",
    "ylow = yeardata.year['min'].values.tolist() + [1960 for i in cbsa_deadset]\n",
    "yhigh = yeardata.year['max'].values.tolist() + [1960 for i in cbsa_deadset]\n",
    "\n",
    "xnum = [2 * x for x in  list(range(len(xnames)))]\n",
    "\n",
    "fig = plt.figure(figsize = (14, 6))\n",
    "ax = fig.add_subplot(111, facecolor='white')\n",
    "ax.vlines(xnum, ylow, yhigh, color='steelblue')\n",
    "ax.set_xticks(xnum)\n",
    "ax.set_xticklabels([name_dict[str(x)] for x in xnames], rotation =90, \\\n",
    "                   fontdict = {'fontsize': 9});\n",
    "plt.tight_layout()\n",
    "plt.savefig('ucr_city_timelines.eps')"
   ]
  },
  {
   "cell_type": "code",
   "execution_count": 46,
   "metadata": {
    "collapsed": false
   },
   "outputs": [],
   "source": [
    "!open ."
   ]
  },
  {
   "cell_type": "markdown",
   "metadata": {},
   "source": [
    "# So we went from 88 to 79 in collapsing cities to CBSA\n",
    "# Then we dropped from 79 to 71 when we matched with ucr records"
   ]
  },
  {
   "cell_type": "code",
   "execution_count": 35,
   "metadata": {
    "collapsed": false
   },
   "outputs": [],
   "source": [
    "fulldf = mcrimedf[np.isfinite(mcrimedf.murder)]"
   ]
  },
  {
   "cell_type": "code",
   "execution_count": 36,
   "metadata": {
    "collapsed": false
   },
   "outputs": [
    {
     "data": {
      "image/png": "[encoded data removed]",
      "text/plain": [
       "<matplotlib.figure.Figure at 0x2fdbaba90>"
      ]
     },
     "metadata": {},
     "output_type": "display_data"
    }
   ],
   "source": [
    "fig = plt.figure()\n",
    "ax = fig.add_subplot(111, facecolor='white')\n",
    "ax = fulldf.groupby(['cbsa', 'year']).agg(np.average).murder.hist(normed=True, bins = 100, log=True, ax=ax)\n",
    "ax.set_ylabel('pdf')\n",
    "ax.set_xlabel('Monthly murder rate')\n",
    "plt.tight_layout()\n",
    "plt.savefig('figures/murder_hist.eps')"
   ]
  },
  {
   "cell_type": "markdown",
   "metadata": {},
   "source": [
    "# Let's just move this to per year because hte per month is killing me"
   ]
  },
  {
   "cell_type": "code",
   "execution_count": 37,
   "metadata": {
    "collapsed": false
   },
   "outputs": [],
   "source": [
    "#yearly population\n",
    "yeardf = fulldf.loc[:, ['cbsa', 'year', 'month', 'murder']].drop_duplicates()\n",
    "#yearly murders\n",
    "yearmurderdf = yeardf.groupby(['cbsa', 'year']).agg(sum).loc[:, ['murder']].reset_index()\n",
    "\n",
    "tcbsas, tnames = [], []\n",
    "for c, n in name_dict.items():\n",
    "    tcbsas.append(c)\n",
    "    tnames.append(n)\n",
    "citynamesdf = pd.DataFrame({'city': tnames, 'cbsa': tcbsas})\n",
    "amdf = pd.merge(yearmurderdf, citynamesdf, on='cbsa')"
   ]
  },
  {
   "cell_type": "code",
   "execution_count": 38,
   "metadata": {
    "collapsed": false
   },
   "outputs": [
    {
     "data": {
      "text/plain": [
       "<matplotlib.text.Text at 0x292f7b278>"
      ]
     },
     "execution_count": 38,
     "metadata": {},
     "output_type": "execute_result"
    },
    {
     "data": {
      "image/png": "[encoded data removed]",
      "text/plain": [
       "<matplotlib.figure.Figure at 0x326537668>"
      ]
     },
     "metadata": {},
     "output_type": "display_data"
    }
   ],
   "source": [
    "national = amdf.groupby('year').agg(sum)\n",
    "fig = plt.figure()\n",
    "ax = fig.add_subplot(111)\n",
    "ax = national.murder.plot(ax = ax)\n",
    "ax.set_ylabel('Number of murders across all cities')"
   ]
  },
  {
   "cell_type": "code",
   "execution_count": null,
   "metadata": {
    "collapsed": false
   },
   "outputs": [],
   "source": [
    "amdf[amdf.city == 'Aurora,IL-Chicago,IL'].murder.plot()"
   ]
  },
  {
   "cell_type": "code",
   "execution_count": null,
   "metadata": {
    "collapsed": false
   },
   "outputs": [],
   "source": [
    "amdf.to_csv('city_annual_murder_count.csv')"
   ]
  },
  {
   "cell_type": "code",
   "execution_count": null,
   "metadata": {
    "collapsed": false
   },
   "outputs": [],
   "source": [
    "chicagodf = amdf[amdf.cbsa == '16974']\n",
    "fig = plt.figure()\n",
    "ax = fig.add_subplot(211, facecolor='white')\n",
    "ax.plot(chicagodf.year, chicagodf.murder, color='steelblue')\n",
    "ax.set_ylabel('Annual Murders', fontdict={'color': 'steelblue'})\n",
    "ax.autoscale()\n",
    "\n",
    "\n",
    "plt.tight_layout()\n",
    "plt.savefig('figures/chicago_murders.eps')\n",
    "plt.savefig('figures/chicago_murders.png')"
   ]
  },
  {
   "cell_type": "code",
   "execution_count": null,
   "metadata": {
    "collapsed": false
   },
   "outputs": [],
   "source": [
    "yeardf = amdf.groupby('cbsa').agg(max).loc[:, ['city', 'murder']].sort_values('murder', ascending=False).reset_index()\n",
    "\n",
    "fig = plt.figure()\n",
    "ax = fig.add_subplot(111, facecolor='white')\n",
    "plt.bar(range(len(yeardf)), yeardf.murder)\n",
    "ax.set_xticks(list(range(len(yeardf))))\n",
    "ax.set_xticklabels(yeardf.city, rotation = 90, fontdict = {'fontsize':9});\n",
    "ax.set_ylabel('Max Annual Murder Count')\n",
    "plt.tight_layout()\n",
    "plt.savefig('figures/annual_murder_count.eps')\n",
    "plt.savefig('figures/annual_murder_count.png')"
   ]
  },
  {
   "cell_type": "code",
   "execution_count": null,
   "metadata": {
    "collapsed": false
   },
   "outputs": [],
   "source": [
    "!open ."
   ]
  },
  {
   "cell_type": "code",
   "execution_count": null,
   "metadata": {
    "collapsed": true
   },
   "outputs": [],
   "source": []
  },
  {
   "cell_type": "code",
   "execution_count": null,
   "metadata": {
    "collapsed": true
   },
   "outputs": [],
   "source": []
  },
  {
   "cell_type": "code",
   "execution_count": null,
   "metadata": {
    "collapsed": true
   },
   "outputs": [],
   "source": []
  }
 ],
 "metadata": {
  "anaconda-cloud": {},
  "kernelspec": {
   "display_name": "Python [Root]",
   "language": "python",
   "name": "Python [Root]"
  },
  "language_info": {
   "codemirror_mode": {
    "name": "ipython",
    "version": 3
   },
   "file_extension": ".py",
   "mimetype": "text/x-python",
   "name": "python",
   "nbconvert_exporter": "python",
   "pygments_lexer": "ipython3",
   "version": "3.5.1"
  }
 },
 "nbformat": 4,
 "nbformat_minor": 0
}
