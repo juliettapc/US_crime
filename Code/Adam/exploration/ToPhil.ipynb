{
 "cells": [
  {
   "cell_type": "code",
   "execution_count": 1,
   "metadata": {
    "collapsed": true
   },
   "outputs": [],
   "source": [
    "import sys\n",
    "sys.path.append('..')\n",
    "import glob\n",
    "import pandas as pd"
   ]
  },
  {
   "cell_type": "code",
   "execution_count": 2,
   "metadata": {
    "collapsed": true
   },
   "outputs": [],
   "source": [
    "import support.data_functions as dfunc"
   ]
  },
  {
   "cell_type": "code",
   "execution_count": 3,
   "metadata": {
    "collapsed": true
   },
   "outputs": [],
   "source": [
    "crimedf = dfunc.load_all_crime()"
   ]
  },
  {
   "cell_type": "code",
   "execution_count": 4,
   "metadata": {
    "collapsed": false
   },
   "outputs": [],
   "source": [
    "mdf = dfunc.produce_merged_dataframe()"
   ]
  },
  {
   "cell_type": "code",
   "execution_count": 5,
   "metadata": {
    "collapsed": false
   },
   "outputs": [],
   "source": [
    "unemploymentdf = dfunc.load_city_unemployment()"
   ]
  },
  {
   "cell_type": "code",
   "execution_count": 6,
   "metadata": {
    "collapsed": false
   },
   "outputs": [],
   "source": [
    "udfset = [(fname.split('/')[-1].split('.csv')[0], pd.read_csv(fname)) \\\n",
    "          for fname in glob.glob('../../Data/unemployment/*csv')]"
   ]
  },
  {
   "cell_type": "code",
   "execution_count": 7,
   "metadata": {
    "collapsed": false
   },
   "outputs": [],
   "source": [
    "ids = []\n",
    "for cname, tdf in udfset:\n",
    "    city, state = cname.split('_')\n",
    "    ids.append([city, state, tdf['Series ID'][0]])"
   ]
  },
  {
   "cell_type": "code",
   "execution_count": 8,
   "metadata": {
    "collapsed": false
   },
   "outputs": [],
   "source": [
    "id_df = pd.DataFrame(ids, columns=['City', 'State', 'ID'])"
   ]
  },
  {
   "cell_type": "code",
   "execution_count": 9,
   "metadata": {
    "collapsed": false
   },
   "outputs": [],
   "source": [
    "id_df['Combined'] = id_df['City'] + id_df['State']\n",
    "crimedf['Combined'] = crimedf['City'] + crimedf['State']"
   ]
  },
  {
   "cell_type": "code",
   "execution_count": 10,
   "metadata": {
    "collapsed": true
   },
   "outputs": [],
   "source": [
    "mergedf = pd.merge(crimedf, id_df, on='Combined')"
   ]
  },
  {
   "cell_type": "code",
   "execution_count": 11,
   "metadata": {
    "collapsed": false
   },
   "outputs": [
    {
     "data": {
      "text/html": [
       "<div>\n",
       "<table border=\"1\" class=\"dataframe\">\n",
       "  <thead>\n",
       "    <tr style=\"text-align: right;\">\n",
       "      <th></th>\n",
       "      <th>Year</th>\n",
       "      <th>Murder</th>\n",
       "      <th>Robbery</th>\n",
       "      <th>Assault</th>\n",
       "      <th>Burglary</th>\n",
       "      <th>State_x</th>\n",
       "      <th>City_x</th>\n",
       "      <th>Combined</th>\n",
       "      <th>City_y</th>\n",
       "      <th>State_y</th>\n",
       "      <th>ID</th>\n",
       "    </tr>\n",
       "  </thead>\n",
       "  <tbody>\n",
       "    <tr>\n",
       "      <th>0</th>\n",
       "      <td>1960</td>\n",
       "      <td>175</td>\n",
       "      <td>507</td>\n",
       "      <td>2309</td>\n",
       "      <td>4073</td>\n",
       "      <td>AL</td>\n",
       "      <td>Birmingham</td>\n",
       "      <td>BirminghamAL</td>\n",
       "      <td>Birmingham</td>\n",
       "      <td>AL</td>\n",
       "      <td>LAUCT010700000000003</td>\n",
       "    </tr>\n",
       "    <tr>\n",
       "      <th>1</th>\n",
       "      <td>1961</td>\n",
       "      <td>151</td>\n",
       "      <td>303</td>\n",
       "      <td>1802</td>\n",
       "      <td>4052</td>\n",
       "      <td>AL</td>\n",
       "      <td>Birmingham</td>\n",
       "      <td>BirminghamAL</td>\n",
       "      <td>Birmingham</td>\n",
       "      <td>AL</td>\n",
       "      <td>LAUCT010700000000003</td>\n",
       "    </tr>\n",
       "    <tr>\n",
       "      <th>2</th>\n",
       "      <td>1962</td>\n",
       "      <td>159</td>\n",
       "      <td>524</td>\n",
       "      <td>1332</td>\n",
       "      <td>4183</td>\n",
       "      <td>AL</td>\n",
       "      <td>Birmingham</td>\n",
       "      <td>BirminghamAL</td>\n",
       "      <td>Birmingham</td>\n",
       "      <td>AL</td>\n",
       "      <td>LAUCT010700000000003</td>\n",
       "    </tr>\n",
       "    <tr>\n",
       "      <th>3</th>\n",
       "      <td>1963</td>\n",
       "      <td>141</td>\n",
       "      <td>305</td>\n",
       "      <td>1892</td>\n",
       "      <td>5360</td>\n",
       "      <td>AL</td>\n",
       "      <td>Birmingham</td>\n",
       "      <td>BirminghamAL</td>\n",
       "      <td>Birmingham</td>\n",
       "      <td>AL</td>\n",
       "      <td>LAUCT010700000000003</td>\n",
       "    </tr>\n",
       "    <tr>\n",
       "      <th>4</th>\n",
       "      <td>1964</td>\n",
       "      <td>130</td>\n",
       "      <td>611</td>\n",
       "      <td>2042</td>\n",
       "      <td>6957</td>\n",
       "      <td>AL</td>\n",
       "      <td>Birmingham</td>\n",
       "      <td>BirminghamAL</td>\n",
       "      <td>Birmingham</td>\n",
       "      <td>AL</td>\n",
       "      <td>LAUCT010700000000003</td>\n",
       "    </tr>\n",
       "  </tbody>\n",
       "</table>\n",
       "</div>"
      ],
      "text/plain": [
       "   Year  Murder  Robbery  Assault  Burglary State_x      City_x      Combined  \\\n",
       "0  1960     175      507     2309      4073      AL  Birmingham  BirminghamAL   \n",
       "1  1961     151      303     1802      4052      AL  Birmingham  BirminghamAL   \n",
       "2  1962     159      524     1332      4183      AL  Birmingham  BirminghamAL   \n",
       "3  1963     141      305     1892      5360      AL  Birmingham  BirminghamAL   \n",
       "4  1964     130      611     2042      6957      AL  Birmingham  BirminghamAL   \n",
       "\n",
       "       City_y State_y                    ID  \n",
       "0  Birmingham      AL  LAUCT010700000000003  \n",
       "1  Birmingham      AL  LAUCT010700000000003  \n",
       "2  Birmingham      AL  LAUCT010700000000003  \n",
       "3  Birmingham      AL  LAUCT010700000000003  \n",
       "4  Birmingham      AL  LAUCT010700000000003  "
      ]
     },
     "execution_count": 11,
     "metadata": {},
     "output_type": "execute_result"
    }
   ],
   "source": [
    "mergedf.head()"
   ]
  },
  {
   "cell_type": "code",
   "execution_count": 12,
   "metadata": {
    "collapsed": false,
    "scrolled": true
   },
   "outputs": [],
   "source": [
    "mergedf.loc[: , ['City_x', 'State_x', 'Combined', 'ID', 'Year', 'Murder']].to_csv('to_phil.csv')"
   ]
  },
  {
   "cell_type": "code",
   "execution_count": null,
   "metadata": {
    "collapsed": true
   },
   "outputs": [],
   "source": []
  }
 ],
 "metadata": {
  "anaconda-cloud": {},
  "kernelspec": {
   "display_name": "Python [Root]",
   "language": "python",
   "name": "Python [Root]"
  },
  "language_info": {
   "codemirror_mode": {
    "name": "ipython",
    "version": 3
   },
   "file_extension": ".py",
   "mimetype": "text/x-python",
   "name": "python",
   "nbconvert_exporter": "python",
   "pygments_lexer": "ipython3",
   "version": "3.5.1"
  }
 },
 "nbformat": 4,
 "nbformat_minor": 0
}
