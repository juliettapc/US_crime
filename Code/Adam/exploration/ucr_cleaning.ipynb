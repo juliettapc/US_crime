{
 "cells": [
  {
   "cell_type": "code",
   "execution_count": 5,
   "metadata": {
    "collapsed": true
   },
   "outputs": [],
   "source": [
    "%matplotlib inline"
   ]
  },
  {
   "cell_type": "code",
   "execution_count": 6,
   "metadata": {
    "collapsed": true
   },
   "outputs": [],
   "source": [
    "import pandas as pd\n",
    "import matplotlib.pyplot as plt\n",
    "import glob\n",
    "import numpy as np\n",
    "\n",
    "import sys\n",
    "sys.path.append('../support')\n",
    "import data_functions as dfunc\n",
    "\n",
    "%matplotlib inline\n",
    "import matplotlib.pyplot as plt\n",
    "import seaborn as sns\n",
    "sns.set_context('talk')\n",
    "sns.set_style({'font.family': 'sans-serif', \n",
    "               'font.sans-serif': 'Arial Narrow', \n",
    "               'font.size': 18})"
   ]
  },
  {
   "cell_type": "markdown",
   "metadata": {},
   "source": [
    "# Now how much are we losing as move from cities to MSAs"
   ]
  },
  {
   "cell_type": "code",
   "execution_count": 7,
   "metadata": {
    "collapsed": false
   },
   "outputs": [
    {
     "data": {
      "text/html": [
       "<div>\n",
       "<table border=\"1\" class=\"dataframe\">\n",
       "  <thead>\n",
       "    <tr style=\"text-align: right;\">\n",
       "      <th></th>\n",
       "      <th>City</th>\n",
       "      <th>State</th>\n",
       "      <th>fipst</th>\n",
       "      <th>stategips</th>\n",
       "      <th>ucrfips</th>\n",
       "      <th>fipscounty</th>\n",
       "      <th>cbsa</th>\n",
       "      <th>msa</th>\n",
       "      <th>ssast</th>\n",
       "    </tr>\n",
       "  </thead>\n",
       "  <tbody>\n",
       "    <tr>\n",
       "      <th>0</th>\n",
       "      <td>Montgomery</td>\n",
       "      <td>AL</td>\n",
       "      <td>1</td>\n",
       "      <td>1</td>\n",
       "      <td>1</td>\n",
       "      <td>1001</td>\n",
       "      <td>33860</td>\n",
       "      <td>5240</td>\n",
       "      <td>1</td>\n",
       "    </tr>\n",
       "    <tr>\n",
       "      <th>1</th>\n",
       "      <td>Montgomery</td>\n",
       "      <td>AL</td>\n",
       "      <td>1</td>\n",
       "      <td>1</td>\n",
       "      <td>51</td>\n",
       "      <td>1051</td>\n",
       "      <td>33860</td>\n",
       "      <td>5240</td>\n",
       "      <td>1</td>\n",
       "    </tr>\n",
       "    <tr>\n",
       "      <th>2</th>\n",
       "      <td>Montgomery</td>\n",
       "      <td>AL</td>\n",
       "      <td>1</td>\n",
       "      <td>1</td>\n",
       "      <td>85</td>\n",
       "      <td>1085</td>\n",
       "      <td>33860</td>\n",
       "      <td>01</td>\n",
       "      <td>1</td>\n",
       "    </tr>\n",
       "    <tr>\n",
       "      <th>3</th>\n",
       "      <td>Montgomery</td>\n",
       "      <td>AL</td>\n",
       "      <td>1</td>\n",
       "      <td>1</td>\n",
       "      <td>101</td>\n",
       "      <td>1101</td>\n",
       "      <td>33860</td>\n",
       "      <td>5240</td>\n",
       "      <td>1</td>\n",
       "    </tr>\n",
       "    <tr>\n",
       "      <th>4</th>\n",
       "      <td>Miami</td>\n",
       "      <td>FL</td>\n",
       "      <td>12</td>\n",
       "      <td>12</td>\n",
       "      <td>86</td>\n",
       "      <td>12086</td>\n",
       "      <td>33124</td>\n",
       "      <td>5000</td>\n",
       "      <td>10</td>\n",
       "    </tr>\n",
       "  </tbody>\n",
       "</table>\n",
       "</div>"
      ],
      "text/plain": [
       "         City State  fipst  stategips  ucrfips  fipscounty   cbsa   msa  ssast\n",
       "0  Montgomery    AL      1          1        1        1001  33860  5240      1\n",
       "1  Montgomery    AL      1          1       51        1051  33860  5240      1\n",
       "2  Montgomery    AL      1          1       85        1085  33860    01      1\n",
       "3  Montgomery    AL      1          1      101        1101  33860  5240      1\n",
       "4       Miami    FL     12         12       86       12086  33124  5000     10"
      ]
     },
     "execution_count": 7,
     "metadata": {},
     "output_type": "execute_result"
    }
   ],
   "source": [
    "mergedf = pd.read_csv('../../Data/crosswalks/city_msa_crosswalk.csv',\n",
    "                      dtype = {'msa': object, 'cbsa' : object}, \n",
    "                      index_col = 0)\n",
    "mergedf.head()"
   ]
  },
  {
   "cell_type": "code",
   "execution_count": 8,
   "metadata": {
    "collapsed": false
   },
   "outputs": [
    {
     "data": {
      "text/plain": [
       "80"
      ]
     },
     "execution_count": 8,
     "metadata": {},
     "output_type": "execute_result"
    }
   ],
   "source": [
    "len(mergedf.cbsa.unique())"
   ]
  },
  {
   "cell_type": "code",
   "execution_count": 9,
   "metadata": {
    "collapsed": false
   },
   "outputs": [],
   "source": [
    "names = [','.join(lset) for lset in mergedf.loc[:, ['cbsa', 'City', 'State']].values.tolist()]\n",
    "names = list(set(names))\n",
    "name_dict = {}\n",
    "for nset in names:\n",
    "    cnum, city, state = nset.split(',')\n",
    "    loc = ','.join([city, state])\n",
    "    if cnum not in name_dict:\n",
    "        name_dict[cnum] = []\n",
    "    name_dict[cnum].append(loc)\n",
    "for cnum in name_dict:\n",
    "    name_dict[cnum] = '-'.join(name_dict[cnum])\n",
    "namedf = pd.DataFrame({'cbsa': list(name_dict.keys()), 'areaname':list(name_dict.values())})"
   ]
  },
  {
   "cell_type": "code",
   "execution_count": 10,
   "metadata": {
    "collapsed": false
   },
   "outputs": [
    {
     "name": "stdout",
     "output_type": "stream",
     "text": [
      "{'47644': 'Warren,MI', '31084': 'LosAngeles,CA', '44140': 'Springfield,MA', '41180': 'SaintLouis,MO', '46140': 'Tulsa,OK', '39900': 'Reno,NV', '31140': 'Louisville,KY', '15380': 'Buffalo,NY', '28140': 'KansasCity,KS-KansasCity,MO', '48620': 'Wichita,KS', '35300': 'NewHaven,CT', '26900': 'Indianapolis,IN', '46060': 'Tucson,AZ', '12940': 'BatonRouge,LA', '41940': 'SanJose,CA', '34980': 'Nashville,TN', '24340': 'GrandRapids,MI', '39300': 'Providence,RI', '19124': 'Dallas,TX', '39340': 'Provo,UT', '47260': 'Norfolk,VA', '35644': 'NewYorkCity,NY', '19804': 'Detroit,MI', '41700': 'SanAntonio,TX', '17140': 'Cincinnati,OH', '23060': 'FortWayne,IN', '49340': 'Worcester,MA', '33460': 'Minneapolis,MN-SaintPaul,MN', '17460': 'Cleveland,OH', '27260': 'Jacksonville,FL', '41740': 'SanDiego,CA', '31540': 'Madison,WI', '30700': 'Lincoln,NE', '44180': 'Springfield,MO', '35380': 'NewOrleans,LA', '12260': 'Augusta,GA', '32820': 'Memphis,TN', '30460': 'Lexington,KY', '14484': 'Boston,MA', '30780': 'LittleRock,AR', '17980': 'Columbus,GA', '12060': 'Atlanta,GA', '10740': 'Albuquerque,NM', '43340': 'Shreveport,LA', '25540': 'Hartford,CT', '36540': 'Omaha,NE', '24660': 'Greensboro,NC', '39580': 'Raleigh,NC', '19780': 'DesMoines,IA', '37964': 'Philadelphia,PA', '16740': 'Charlotte,NC', '17820': 'ColoradoSprings,CO', '18140': 'Columbus,OH', '36420': 'OklahomaCity,OK', '27140': 'Jackson,MS', '35084': 'Paterson,NJ-JerseyCity,NJ-Newark,NJ', '33660': 'Mobile,AL', '19740': 'Aurora,CO-Denver,CO', '41620': 'SaltLakeCity,UT', '45104': 'Tacoma,WA', '45220': 'Tallahassee,FL', '28940': 'Knoxville,TN', '33860': 'Montgomery,AL', '33124': 'Miami,FL', '14260': 'Boise,ID', '26420': 'Houston,TX', '12580': 'Baltimore,MD', '40380': 'Rochester,NY', '38060': 'Phoenix,AZ-Mesa,AZ', '42644': 'Seattle,WA', '44060': 'Spokane,WA', '33340': 'Milwaukee,WI', '38300': 'Pittsburgh,PA', '38900': 'Portland,OR', '17900': 'Columbia,SC', '29820': 'Henderson,NV-LasVegas,NV', '13820': 'Birmingham,AL', '21660': 'Eugene,OR', '11260': 'Anchorage,AK', '16974': 'Aurora,IL-Chicago,IL'}\n"
     ]
    }
   ],
   "source": [
    "print(name_dict)"
   ]
  },
  {
   "cell_type": "markdown",
   "metadata": {},
   "source": [
    "## So we lose 11 (from 88 to ~~77~~ 79) areas, and our city population counts will be off.....\n",
    "\n",
    "Let's proceed and start merging it all up"
   ]
  },
  {
   "cell_type": "code",
   "execution_count": 6,
   "metadata": {
    "collapsed": false
   },
   "outputs": [],
   "source": [
    "gdf = mergedf.groupby('cbsa')"
   ]
  },
  {
   "cell_type": "code",
   "execution_count": 7,
   "metadata": {
    "collapsed": false
   },
   "outputs": [
    {
     "name": "stdout",
     "output_type": "stream",
     "text": [
      "80\n"
     ]
    }
   ],
   "source": [
    "cbsa_numbers = list(gdf.groups.keys())\n",
    "print( len(cbsa_numbers) )"
   ]
  },
  {
   "cell_type": "markdown",
   "metadata": {},
   "source": [
    "# ~~Load the census data because populatoin from the ucr can't be trusted~~\n",
    "\n",
    "Yeah, no. The census data is way too off because of the movement from city to MSA. Don't bother"
   ]
  },
  {
   "cell_type": "markdown",
   "metadata": {},
   "source": [
    "#  Now I want to load the ucr data"
   ]
  },
  {
   "cell_type": "code",
   "execution_count": 8,
   "metadata": {
    "collapsed": false
   },
   "outputs": [],
   "source": [
    "dfset = []\n",
    "for fname in glob.glob('../../Data/ucr_clean/*.csv'):\n",
    "    tdf = pd.read_csv(fname, index_col = 0, low_memory = False,\n",
    "                      dtype = {17: object })\n",
    "    tdf['year'] = int(fname.split('_')[-1].split('.csv')[0])\n",
    "    dfset.append(tdf)\n",
    "ucrdf = pd.concat(dfset)\n",
    "ucrdf.msa = ucrdf.msa.astype(object)"
   ]
  },
  {
   "cell_type": "code",
   "execution_count": null,
   "metadata": {
    "collapsed": false
   },
   "outputs": [],
   "source": []
  },
  {
   "cell_type": "markdown",
   "metadata": {},
   "source": [
    "## Info\n",
    "\n",
    "* ORI is originating office, most reliable but would have to create ori to city\n",
    "* ICPSR has datasets that would connect this to census data\n",
    "* City core is reliable...but nowhere to match to\n",
    "* Need to watch 9/12 months\n",
    "* pop1, 2, and 3 will hold population.\n"
   ]
  },
  {
   "cell_type": "code",
   "execution_count": 9,
   "metadata": {
    "collapsed": true
   },
   "outputs": [],
   "source": [
    "# for i, (c, v) in enumerate( zip(ucrdf.columns, ucrdf.iloc[0]) ):\n",
    "#     print(i, v, c)"
   ]
  },
  {
   "cell_type": "markdown",
   "metadata": {},
   "source": [
    "# The 'msa' in the ucrdf is actually the 'ucrfips' in my mergedf"
   ]
  },
  {
   "cell_type": "code",
   "execution_count": 10,
   "metadata": {
    "collapsed": false
   },
   "outputs": [],
   "source": [
    "ucrdf.rename(columns = {\"msa\": \"ucrfips\"}, inplace=True)\n",
    "subucrdf = ucrdf[ucrdf.ucrfips.isin(mergedf.ucrfips)]\n",
    "ucrdf.ucrfips = ucrdf.ucrfips.astype(object, inplace=True)"
   ]
  },
  {
   "cell_type": "markdown",
   "metadata": {
    "collapsed": false
   },
   "source": [
    "# Great. \n",
    "So now we need to go through and create a dataframe of yearly counts of existence and the total count"
   ]
  },
  {
   "cell_type": "code",
   "execution_count": 11,
   "metadata": {
    "collapsed": false
   },
   "outputs": [],
   "source": [
    "ucr_rows = {}\n",
    "for cbsa_key, row_indices in gdf.groups.items():\n",
    "    ucr_rows[cbsa_key] = []\n",
    "    #Get the ucrfips for the cbsa key\n",
    "    ufips = mergedf.iloc[row_indices].ucrfips.values.tolist()\n",
    "    #Add all of the rows for each cbsa key to a list\n",
    "    for ufip in ufips:\n",
    "        ucr_rows[cbsa_key].append(ucrdf[ucrdf.ucrfips == ufip])\n",
    "#Turn the fips dfset into a single dataframe for each cbsa\n",
    "cbsa_ucrdf = {}\n",
    "for cbsa_key, cbsa_dfset in ucr_rows.items():\n",
    "    cbsa_ucrdf[cbsa_key] = pd.concat(cbsa_dfset)"
   ]
  },
  {
   "cell_type": "markdown",
   "metadata": {},
   "source": [
    "## Need to add all rows for the same year together"
   ]
  },
  {
   "cell_type": "code",
   "execution_count": 13,
   "metadata": {
    "collapsed": false
   },
   "outputs": [],
   "source": [
    "mo_names = [m + '_murder' for m in ['jan', 'feb', 'mar', 'apr', 'may', 'jun', 'jul', 'aug', 'sept', 'oct', 'nov', 'dec']]\n",
    "#pop_names = ['population1', 'population2', 'population3']\n",
    "#pop_names = ['population1']\n",
    "# pop_names = ['pop1_last_census', 'pop2_last_census', 'pop3_last_census']\n",
    "full_cols = mo_names\n",
    "\n",
    "def base_cleaner(x):\n",
    "    import re\n",
    "    if type(x) == str:\n",
    "        last_val = x.split('0')[-1]\n",
    "        if last_val == '':\n",
    "            return 0\n",
    "        else:\n",
    "            if last_val.isnumeric():\n",
    "                return int(last_val)\n",
    "            else:\n",
    "                #print(last_val)\n",
    "                return 0\n",
    "    else:\n",
    "        return x\n",
    "    \n",
    "def year_grouper(cbsadf, cbsanum):\n",
    "    #Get the subset\n",
    "    ygdf = cbsadf.loc[:, ['year'] + full_cols]\n",
    "    #group the data frame by year and sum\n",
    "    year_sum = ygdf.groupby('year').agg(sum)\n",
    "    #Now we need to get the counts for MM/YY\n",
    "    sums = []\n",
    "    temp_sum = []\n",
    "    for tyear in year_sum.index: \n",
    "        temp_sum = []\n",
    "        for mo_index, mo_name in enumerate(mo_names):\n",
    "            mo_sum = year_sum.loc[tyear,mo_name]\n",
    "            temp_sum.append(mo_sum)\n",
    "            sums.append([cbsanum, int(tyear), mo_index + 1, mo_sum])\n",
    "        if len(list(set(temp_sum))) == 1 and set(temp_sum) != {0}:\n",
    "            print('problem with ', cbsanum, 'year ', tyear)\n",
    "            print(temp_sum)\n",
    "    #Make it into a dataframe\n",
    "    citydf = pd.DataFrame(sums, columns = ['cbsa', 'year', 'month', 'murder'])\n",
    "    return citydf\n",
    "    "
   ]
  },
  {
   "cell_type": "markdown",
   "metadata": {},
   "source": [
    "# Need to give up on the population numbers from the UCR, they are completely fucked and trying to correct them will be a monumental task. The ones we have already from the census should be close enough to maintain correct order of magnitueds"
   ]
  },
  {
   "cell_type": "code",
   "execution_count": 14,
   "metadata": {
    "collapsed": false
   },
   "outputs": [],
   "source": [
    "ucr_rows = {}\n",
    "for cbsa_key, row_indices in gdf.groups.items():\n",
    "    ucr_rows[cbsa_key] = []\n",
    "    #Get the ucrfips for the cbsa key\n",
    "    ufips = mergedf.iloc[row_indices].ucrfips.values.tolist()\n",
    "    #Add all of the rows for each cbsa key to a list\n",
    "    for ufip in ufips:\n",
    "        ucr_rows[cbsa_key].append(ucrdf[ucrdf.ucrfips == ufip])\n",
    "        \n",
    "#Turn the fips dfset into a single dataframe for each cbsa\n",
    "cbsa_ucrdf = {}\n",
    "for cbsa_key, cbsa_dfset in ucr_rows.items():\n",
    "    cbsa_ucrdf[cbsa_key] = pd.concat(cbsa_dfset)\n",
    "    \n",
    "for cbsanum in cbsa_ucrdf:\n",
    "    cbsa_ucrdf[cbsanum][mo_names] = cbsa_ucrdf[cbsanum][mo_names].applymap(base_cleaner)\n",
    "    cbsa_ucrdf[cbsanum][full_cols] = cbsa_ucrdf[cbsanum][full_cols].applymap(pd.to_numeric)\n",
    "    "
   ]
  },
  {
   "cell_type": "code",
   "execution_count": 15,
   "metadata": {
    "collapsed": false
   },
   "outputs": [],
   "source": [
    "city_dfset = []\n",
    "cbsa_deadset = []\n",
    "for cbsanum, cbsadf in list(cbsa_ucrdf.items()):\n",
    "    if len(cbsadf) != 0:\n",
    "        city_dfset.append( year_grouper(cbsadf, cbsanum) )\n",
    "    else:\n",
    "        cbsa_deadset.append(cbsanum)\n",
    "        \n",
    "crime_df = pd.concat(city_dfset)"
   ]
  },
  {
   "cell_type": "code",
   "execution_count": 16,
   "metadata": {
    "collapsed": false,
    "scrolled": true
   },
   "outputs": [],
   "source": [
    "mcrimedf = pd.merge(crime_df, mergedf, on='cbsa') "
   ]
  },
  {
   "cell_type": "markdown",
   "metadata": {},
   "source": [
    "# Now we need to merge the population data with the crime data frame"
   ]
  },
  {
   "cell_type": "code",
   "execution_count": 18,
   "metadata": {
    "collapsed": false
   },
   "outputs": [],
   "source": [
    "# fulldf = pd.merge(mcrimedf, cbsa_censusdf, on=['cbsa', 'year'])\n",
    "# fulldf.head()\n",
    "fulldf = mcrimedf"
   ]
  },
  {
   "cell_type": "markdown",
   "metadata": {
    "collapsed": true
   },
   "source": [
    "# Perfect - our ppopulation now seems to be in order so we can proceed"
   ]
  },
  {
   "cell_type": "code",
   "execution_count": 19,
   "metadata": {
    "collapsed": false
   },
   "outputs": [],
   "source": [
    "yeardata = fulldf.loc[:, ['cbsa', 'year']].groupby('cbsa').agg([min, max])"
   ]
  },
  {
   "cell_type": "code",
   "execution_count": 20,
   "metadata": {
    "collapsed": false
   },
   "outputs": [
    {
     "data": {
      "image/png": "[encoded data removed]",
      "text/plain": [
       "<matplotlib.figure.Figure at 0x141568978>"
      ]
     },
     "metadata": {},
     "output_type": "display_data"
    }
   ],
   "source": [
    "#Add in the deadset\n",
    "xnames = yeardata.index.values.tolist()\n",
    "yeardata['name'] = [name_dict[str(x)] for x in xnames]\n",
    "yeardata.sort_values('name', inplace=True)\n",
    "xnames = yeardata.index.values.tolist() + cbsa_deadset\n",
    "\n",
    "ylow = yeardata.year['min'].values.tolist() + [1960 for i in cbsa_deadset]\n",
    "yhigh = yeardata.year['max'].values.tolist() + [1960 for i in cbsa_deadset]\n",
    "\n",
    "xnum = [2 * x for x in  list(range(len(xnames)))]\n",
    "\n",
    "fig = plt.figure(figsize = (14, 6))\n",
    "ax = fig.add_subplot(111, facecolor='white')\n",
    "ax.vlines(xnum, ylow, yhigh, color='steelblue')\n",
    "ax.set_xticks(xnum)\n",
    "ax.set_xticklabels([name_dict[str(x)] for x in xnames], rotation =90, \\\n",
    "                   fontdict = {'fontsize': 9});\n",
    "plt.tight_layout()\n",
    "plt.savefig('ucr_city_timelines.eps')"
   ]
  },
  {
   "cell_type": "code",
   "execution_count": null,
   "metadata": {
    "collapsed": false
   },
   "outputs": [],
   "source": []
  },
  {
   "cell_type": "markdown",
   "metadata": {},
   "source": [
    "# So we went from 88 to 79 in collapsing cities to CBSA\n",
    "# Then we dropped from 79 to 71 when we matched with ucr records"
   ]
  },
  {
   "cell_type": "code",
   "execution_count": null,
   "metadata": {
    "collapsed": false
   },
   "outputs": [],
   "source": [
    "# fulldf['per_capita'] = fulldf['murder']/fulldf['population'] * 100000\n",
    "# fulldf = fulldf[np.isfinite(fulldf.per_capita)]"
   ]
  },
  {
   "cell_type": "code",
   "execution_count": 22,
   "metadata": {
    "collapsed": false
   },
   "outputs": [
    {
     "data": {
      "image/png": "[encoded data removed]",
      "text/plain": [
       "<matplotlib.figure.Figure at 0x33049f320>"
      ]
     },
     "metadata": {},
     "output_type": "display_data"
    }
   ],
   "source": [
    "fig = plt.figure()\n",
    "ax = fig.add_subplot(111, facecolor='white')\n",
    "ax = fulldf.groupby(['cbsa', 'year']).agg(np.average).murder.hist(normed=True, bins = 100, log=True, ax=ax)\n",
    "ax.set_ylabel('pdf')\n",
    "ax.set_xlabel('Monthly murder rate')\n",
    "plt.tight_layout()\n",
    "plt.savefig('figures/murder_hist.eps')"
   ]
  },
  {
   "cell_type": "markdown",
   "metadata": {},
   "source": [
    "# Let's just move this to per year because hte per month is killing me"
   ]
  },
  {
   "cell_type": "code",
   "execution_count": 35,
   "metadata": {
    "collapsed": false
   },
   "outputs": [
    {
     "data": {
      "text/html": [
       "<div>\n",
       "<table border=\"1\" class=\"dataframe\">\n",
       "  <thead>\n",
       "    <tr style=\"text-align: right;\">\n",
       "      <th></th>\n",
       "      <th>cbsa</th>\n",
       "      <th>year</th>\n",
       "      <th>month</th>\n",
       "      <th>murder</th>\n",
       "      <th>City</th>\n",
       "      <th>State</th>\n",
       "      <th>fipst</th>\n",
       "      <th>stategips</th>\n",
       "      <th>ucrfips</th>\n",
       "      <th>fipscounty</th>\n",
       "      <th>msa</th>\n",
       "      <th>ssast</th>\n",
       "    </tr>\n",
       "  </thead>\n",
       "  <tbody>\n",
       "    <tr>\n",
       "      <th>2405</th>\n",
       "      <td>16974</td>\n",
       "      <td>1980</td>\n",
       "      <td>1</td>\n",
       "      <td>76.0</td>\n",
       "      <td>Chicago</td>\n",
       "      <td>IL</td>\n",
       "      <td>17</td>\n",
       "      <td>17</td>\n",
       "      <td>31</td>\n",
       "      <td>17031</td>\n",
       "      <td>1600</td>\n",
       "      <td>14</td>\n",
       "    </tr>\n",
       "    <tr>\n",
       "      <th>2406</th>\n",
       "      <td>16974</td>\n",
       "      <td>1980</td>\n",
       "      <td>1</td>\n",
       "      <td>76.0</td>\n",
       "      <td>Chicago</td>\n",
       "      <td>IL</td>\n",
       "      <td>17</td>\n",
       "      <td>17</td>\n",
       "      <td>63</td>\n",
       "      <td>17063</td>\n",
       "      <td>1600</td>\n",
       "      <td>14</td>\n",
       "    </tr>\n",
       "    <tr>\n",
       "      <th>2407</th>\n",
       "      <td>16974</td>\n",
       "      <td>1980</td>\n",
       "      <td>1</td>\n",
       "      <td>76.0</td>\n",
       "      <td>Chicago</td>\n",
       "      <td>IL</td>\n",
       "      <td>17</td>\n",
       "      <td>17</td>\n",
       "      <td>89</td>\n",
       "      <td>17089</td>\n",
       "      <td>1600</td>\n",
       "      <td>14</td>\n",
       "    </tr>\n",
       "    <tr>\n",
       "      <th>2408</th>\n",
       "      <td>16974</td>\n",
       "      <td>1980</td>\n",
       "      <td>1</td>\n",
       "      <td>76.0</td>\n",
       "      <td>Chicago</td>\n",
       "      <td>IL</td>\n",
       "      <td>17</td>\n",
       "      <td>17</td>\n",
       "      <td>93</td>\n",
       "      <td>17093</td>\n",
       "      <td>1600</td>\n",
       "      <td>14</td>\n",
       "    </tr>\n",
       "    <tr>\n",
       "      <th>2409</th>\n",
       "      <td>16974</td>\n",
       "      <td>1980</td>\n",
       "      <td>1</td>\n",
       "      <td>76.0</td>\n",
       "      <td>Chicago</td>\n",
       "      <td>IL</td>\n",
       "      <td>17</td>\n",
       "      <td>17</td>\n",
       "      <td>197</td>\n",
       "      <td>17197</td>\n",
       "      <td>1600</td>\n",
       "      <td>14</td>\n",
       "    </tr>\n",
       "  </tbody>\n",
       "</table>\n",
       "</div>"
      ],
      "text/plain": [
       "       cbsa  year  month  murder     City State  fipst  stategips  ucrfips  \\\n",
       "2405  16974  1980      1    76.0  Chicago    IL     17         17       31   \n",
       "2406  16974  1980      1    76.0  Chicago    IL     17         17       63   \n",
       "2407  16974  1980      1    76.0  Chicago    IL     17         17       89   \n",
       "2408  16974  1980      1    76.0  Chicago    IL     17         17       93   \n",
       "2409  16974  1980      1    76.0  Chicago    IL     17         17      197   \n",
       "\n",
       "      fipscounty   msa  ssast  \n",
       "2405       17031  1600     14  \n",
       "2406       17063  1600     14  \n",
       "2407       17089  1600     14  \n",
       "2408       17093  1600     14  \n",
       "2409       17197  1600     14  "
      ]
     },
     "execution_count": 35,
     "metadata": {},
     "output_type": "execute_result"
    }
   ],
   "source": [
    "fulldf[(fulldf.City == 'Chicago') & (fulldf.year == 1980) & (fulldf.month == 1)]"
   ]
  },
  {
   "cell_type": "code",
   "execution_count": 39,
   "metadata": {
    "collapsed": false
   },
   "outputs": [
    {
     "data": {
      "text/html": [
       "<div>\n",
       "<table border=\"1\" class=\"dataframe\">\n",
       "  <thead>\n",
       "    <tr style=\"text-align: right;\">\n",
       "      <th></th>\n",
       "      <th>cbsa</th>\n",
       "      <th>year</th>\n",
       "      <th>month</th>\n",
       "      <th>murder</th>\n",
       "    </tr>\n",
       "  </thead>\n",
       "  <tbody>\n",
       "    <tr>\n",
       "      <th>2410</th>\n",
       "      <td>16974</td>\n",
       "      <td>1980</td>\n",
       "      <td>2</td>\n",
       "      <td>70.0</td>\n",
       "    </tr>\n",
       "  </tbody>\n",
       "</table>\n",
       "</div>"
      ],
      "text/plain": [
       "       cbsa  year  month  murder\n",
       "2410  16974  1980      2    70.0"
      ]
     },
     "execution_count": 39,
     "metadata": {},
     "output_type": "execute_result"
    }
   ],
   "source": [
    "yeardf[(yeardf.cbsa == '16974') & (yeardf.year == 1980) & (yeardf.month == 2)]"
   ]
  },
  {
   "cell_type": "code",
   "execution_count": 23,
   "metadata": {
    "collapsed": false
   },
   "outputs": [],
   "source": [
    "#yearly population\n",
    "yeardf = fulldf.loc[:, ['cbsa', 'year', 'month', 'murder']].drop_duplicates()\n",
    "#yearly murders\n",
    "yearmurderdf = yeardf.groupby(['cbsa', 'year']).agg(sum).loc[:, ['murder']].reset_index()\n",
    "\n",
    "tcbsas, tnames = [], []\n",
    "for c, n in name_dict.items():\n",
    "    tcbsas.append(c)\n",
    "    tnames.append(n)\n",
    "citynamesdf = pd.DataFrame({'city': tnames, 'cbsa': tcbsas})\n",
    "amdf = pd.merge(yearmurderdf, citynamesdf, on='cbsa')"
   ]
  },
  {
   "cell_type": "code",
   "execution_count": 40,
   "metadata": {
    "collapsed": false
   },
   "outputs": [
    {
     "data": {
      "text/html": [
       "<div>\n",
       "<table border=\"1\" class=\"dataframe\">\n",
       "  <thead>\n",
       "    <tr style=\"text-align: right;\">\n",
       "      <th></th>\n",
       "      <th>cbsa</th>\n",
       "      <th>year</th>\n",
       "      <th>murder</th>\n",
       "      <th>city</th>\n",
       "    </tr>\n",
       "  </thead>\n",
       "  <tbody>\n",
       "    <tr>\n",
       "      <th>0</th>\n",
       "      <td>10740</td>\n",
       "      <td>1970</td>\n",
       "      <td>0.0</td>\n",
       "      <td>Albuquerque,NM</td>\n",
       "    </tr>\n",
       "    <tr>\n",
       "      <th>1</th>\n",
       "      <td>10740</td>\n",
       "      <td>1971</td>\n",
       "      <td>2.0</td>\n",
       "      <td>Albuquerque,NM</td>\n",
       "    </tr>\n",
       "    <tr>\n",
       "      <th>2</th>\n",
       "      <td>10740</td>\n",
       "      <td>1972</td>\n",
       "      <td>0.0</td>\n",
       "      <td>Albuquerque,NM</td>\n",
       "    </tr>\n",
       "    <tr>\n",
       "      <th>3</th>\n",
       "      <td>10740</td>\n",
       "      <td>1973</td>\n",
       "      <td>5.0</td>\n",
       "      <td>Albuquerque,NM</td>\n",
       "    </tr>\n",
       "    <tr>\n",
       "      <th>4</th>\n",
       "      <td>10740</td>\n",
       "      <td>1974</td>\n",
       "      <td>4.0</td>\n",
       "      <td>Albuquerque,NM</td>\n",
       "    </tr>\n",
       "    <tr>\n",
       "      <th>5</th>\n",
       "      <td>10740</td>\n",
       "      <td>1975</td>\n",
       "      <td>3.0</td>\n",
       "      <td>Albuquerque,NM</td>\n",
       "    </tr>\n",
       "    <tr>\n",
       "      <th>6</th>\n",
       "      <td>10740</td>\n",
       "      <td>1976</td>\n",
       "      <td>2.0</td>\n",
       "      <td>Albuquerque,NM</td>\n",
       "    </tr>\n",
       "    <tr>\n",
       "      <th>7</th>\n",
       "      <td>10740</td>\n",
       "      <td>1977</td>\n",
       "      <td>3.0</td>\n",
       "      <td>Albuquerque,NM</td>\n",
       "    </tr>\n",
       "    <tr>\n",
       "      <th>8</th>\n",
       "      <td>10740</td>\n",
       "      <td>1978</td>\n",
       "      <td>4.0</td>\n",
       "      <td>Albuquerque,NM</td>\n",
       "    </tr>\n",
       "    <tr>\n",
       "      <th>9</th>\n",
       "      <td>10740</td>\n",
       "      <td>1979</td>\n",
       "      <td>2.0</td>\n",
       "      <td>Albuquerque,NM</td>\n",
       "    </tr>\n",
       "    <tr>\n",
       "      <th>10</th>\n",
       "      <td>10740</td>\n",
       "      <td>1980</td>\n",
       "      <td>4.0</td>\n",
       "      <td>Albuquerque,NM</td>\n",
       "    </tr>\n",
       "    <tr>\n",
       "      <th>11</th>\n",
       "      <td>10740</td>\n",
       "      <td>1981</td>\n",
       "      <td>2.0</td>\n",
       "      <td>Albuquerque,NM</td>\n",
       "    </tr>\n",
       "    <tr>\n",
       "      <th>12</th>\n",
       "      <td>10740</td>\n",
       "      <td>1982</td>\n",
       "      <td>4.0</td>\n",
       "      <td>Albuquerque,NM</td>\n",
       "    </tr>\n",
       "    <tr>\n",
       "      <th>13</th>\n",
       "      <td>10740</td>\n",
       "      <td>1983</td>\n",
       "      <td>13.0</td>\n",
       "      <td>Albuquerque,NM</td>\n",
       "    </tr>\n",
       "    <tr>\n",
       "      <th>14</th>\n",
       "      <td>10740</td>\n",
       "      <td>1984</td>\n",
       "      <td>21.0</td>\n",
       "      <td>Albuquerque,NM</td>\n",
       "    </tr>\n",
       "    <tr>\n",
       "      <th>15</th>\n",
       "      <td>10740</td>\n",
       "      <td>1985</td>\n",
       "      <td>9.0</td>\n",
       "      <td>Albuquerque,NM</td>\n",
       "    </tr>\n",
       "    <tr>\n",
       "      <th>16</th>\n",
       "      <td>10740</td>\n",
       "      <td>1986</td>\n",
       "      <td>23.0</td>\n",
       "      <td>Albuquerque,NM</td>\n",
       "    </tr>\n",
       "    <tr>\n",
       "      <th>17</th>\n",
       "      <td>10740</td>\n",
       "      <td>1987</td>\n",
       "      <td>12.0</td>\n",
       "      <td>Albuquerque,NM</td>\n",
       "    </tr>\n",
       "    <tr>\n",
       "      <th>18</th>\n",
       "      <td>10740</td>\n",
       "      <td>1988</td>\n",
       "      <td>26.0</td>\n",
       "      <td>Albuquerque,NM</td>\n",
       "    </tr>\n",
       "    <tr>\n",
       "      <th>19</th>\n",
       "      <td>10740</td>\n",
       "      <td>1989</td>\n",
       "      <td>19.0</td>\n",
       "      <td>Albuquerque,NM</td>\n",
       "    </tr>\n",
       "    <tr>\n",
       "      <th>20</th>\n",
       "      <td>10740</td>\n",
       "      <td>1990</td>\n",
       "      <td>17.0</td>\n",
       "      <td>Albuquerque,NM</td>\n",
       "    </tr>\n",
       "    <tr>\n",
       "      <th>21</th>\n",
       "      <td>10740</td>\n",
       "      <td>1991</td>\n",
       "      <td>26.0</td>\n",
       "      <td>Albuquerque,NM</td>\n",
       "    </tr>\n",
       "    <tr>\n",
       "      <th>22</th>\n",
       "      <td>10740</td>\n",
       "      <td>1992</td>\n",
       "      <td>2.0</td>\n",
       "      <td>Albuquerque,NM</td>\n",
       "    </tr>\n",
       "    <tr>\n",
       "      <th>23</th>\n",
       "      <td>10740</td>\n",
       "      <td>1993</td>\n",
       "      <td>7.0</td>\n",
       "      <td>Albuquerque,NM</td>\n",
       "    </tr>\n",
       "    <tr>\n",
       "      <th>24</th>\n",
       "      <td>10740</td>\n",
       "      <td>1994</td>\n",
       "      <td>7.0</td>\n",
       "      <td>Albuquerque,NM</td>\n",
       "    </tr>\n",
       "    <tr>\n",
       "      <th>25</th>\n",
       "      <td>10740</td>\n",
       "      <td>1995</td>\n",
       "      <td>3.0</td>\n",
       "      <td>Albuquerque,NM</td>\n",
       "    </tr>\n",
       "    <tr>\n",
       "      <th>26</th>\n",
       "      <td>10740</td>\n",
       "      <td>1996</td>\n",
       "      <td>4.0</td>\n",
       "      <td>Albuquerque,NM</td>\n",
       "    </tr>\n",
       "    <tr>\n",
       "      <th>27</th>\n",
       "      <td>10740</td>\n",
       "      <td>1997</td>\n",
       "      <td>2.0</td>\n",
       "      <td>Albuquerque,NM</td>\n",
       "    </tr>\n",
       "    <tr>\n",
       "      <th>28</th>\n",
       "      <td>10740</td>\n",
       "      <td>1998</td>\n",
       "      <td>0.0</td>\n",
       "      <td>Albuquerque,NM</td>\n",
       "    </tr>\n",
       "    <tr>\n",
       "      <th>29</th>\n",
       "      <td>10740</td>\n",
       "      <td>1999</td>\n",
       "      <td>1.0</td>\n",
       "      <td>Albuquerque,NM</td>\n",
       "    </tr>\n",
       "    <tr>\n",
       "      <th>...</th>\n",
       "      <td>...</td>\n",
       "      <td>...</td>\n",
       "      <td>...</td>\n",
       "      <td>...</td>\n",
       "    </tr>\n",
       "    <tr>\n",
       "      <th>3397</th>\n",
       "      <td>49340</td>\n",
       "      <td>1985</td>\n",
       "      <td>21.0</td>\n",
       "      <td>Worcester,MA</td>\n",
       "    </tr>\n",
       "    <tr>\n",
       "      <th>3398</th>\n",
       "      <td>49340</td>\n",
       "      <td>1986</td>\n",
       "      <td>27.0</td>\n",
       "      <td>Worcester,MA</td>\n",
       "    </tr>\n",
       "    <tr>\n",
       "      <th>3399</th>\n",
       "      <td>49340</td>\n",
       "      <td>1987</td>\n",
       "      <td>23.0</td>\n",
       "      <td>Worcester,MA</td>\n",
       "    </tr>\n",
       "    <tr>\n",
       "      <th>3400</th>\n",
       "      <td>49340</td>\n",
       "      <td>1988</td>\n",
       "      <td>20.0</td>\n",
       "      <td>Worcester,MA</td>\n",
       "    </tr>\n",
       "    <tr>\n",
       "      <th>3401</th>\n",
       "      <td>49340</td>\n",
       "      <td>1989</td>\n",
       "      <td>16.0</td>\n",
       "      <td>Worcester,MA</td>\n",
       "    </tr>\n",
       "    <tr>\n",
       "      <th>3402</th>\n",
       "      <td>49340</td>\n",
       "      <td>1990</td>\n",
       "      <td>14.0</td>\n",
       "      <td>Worcester,MA</td>\n",
       "    </tr>\n",
       "    <tr>\n",
       "      <th>3403</th>\n",
       "      <td>49340</td>\n",
       "      <td>1991</td>\n",
       "      <td>26.0</td>\n",
       "      <td>Worcester,MA</td>\n",
       "    </tr>\n",
       "    <tr>\n",
       "      <th>3404</th>\n",
       "      <td>49340</td>\n",
       "      <td>1992</td>\n",
       "      <td>19.0</td>\n",
       "      <td>Worcester,MA</td>\n",
       "    </tr>\n",
       "    <tr>\n",
       "      <th>3405</th>\n",
       "      <td>49340</td>\n",
       "      <td>1993</td>\n",
       "      <td>10.0</td>\n",
       "      <td>Worcester,MA</td>\n",
       "    </tr>\n",
       "    <tr>\n",
       "      <th>3406</th>\n",
       "      <td>49340</td>\n",
       "      <td>1994</td>\n",
       "      <td>17.0</td>\n",
       "      <td>Worcester,MA</td>\n",
       "    </tr>\n",
       "    <tr>\n",
       "      <th>3407</th>\n",
       "      <td>49340</td>\n",
       "      <td>1995</td>\n",
       "      <td>22.0</td>\n",
       "      <td>Worcester,MA</td>\n",
       "    </tr>\n",
       "    <tr>\n",
       "      <th>3408</th>\n",
       "      <td>49340</td>\n",
       "      <td>1996</td>\n",
       "      <td>11.0</td>\n",
       "      <td>Worcester,MA</td>\n",
       "    </tr>\n",
       "    <tr>\n",
       "      <th>3409</th>\n",
       "      <td>49340</td>\n",
       "      <td>1997</td>\n",
       "      <td>26.0</td>\n",
       "      <td>Worcester,MA</td>\n",
       "    </tr>\n",
       "    <tr>\n",
       "      <th>3410</th>\n",
       "      <td>49340</td>\n",
       "      <td>1998</td>\n",
       "      <td>23.0</td>\n",
       "      <td>Worcester,MA</td>\n",
       "    </tr>\n",
       "    <tr>\n",
       "      <th>3411</th>\n",
       "      <td>49340</td>\n",
       "      <td>1999</td>\n",
       "      <td>21.0</td>\n",
       "      <td>Worcester,MA</td>\n",
       "    </tr>\n",
       "    <tr>\n",
       "      <th>3412</th>\n",
       "      <td>49340</td>\n",
       "      <td>2000</td>\n",
       "      <td>17.0</td>\n",
       "      <td>Worcester,MA</td>\n",
       "    </tr>\n",
       "    <tr>\n",
       "      <th>3413</th>\n",
       "      <td>49340</td>\n",
       "      <td>2001</td>\n",
       "      <td>25.0</td>\n",
       "      <td>Worcester,MA</td>\n",
       "    </tr>\n",
       "    <tr>\n",
       "      <th>3414</th>\n",
       "      <td>49340</td>\n",
       "      <td>2002</td>\n",
       "      <td>18.0</td>\n",
       "      <td>Worcester,MA</td>\n",
       "    </tr>\n",
       "    <tr>\n",
       "      <th>3415</th>\n",
       "      <td>49340</td>\n",
       "      <td>2003</td>\n",
       "      <td>16.0</td>\n",
       "      <td>Worcester,MA</td>\n",
       "    </tr>\n",
       "    <tr>\n",
       "      <th>3416</th>\n",
       "      <td>49340</td>\n",
       "      <td>2004</td>\n",
       "      <td>26.0</td>\n",
       "      <td>Worcester,MA</td>\n",
       "    </tr>\n",
       "    <tr>\n",
       "      <th>3417</th>\n",
       "      <td>49340</td>\n",
       "      <td>2005</td>\n",
       "      <td>31.0</td>\n",
       "      <td>Worcester,MA</td>\n",
       "    </tr>\n",
       "    <tr>\n",
       "      <th>3418</th>\n",
       "      <td>49340</td>\n",
       "      <td>2006</td>\n",
       "      <td>31.0</td>\n",
       "      <td>Worcester,MA</td>\n",
       "    </tr>\n",
       "    <tr>\n",
       "      <th>3419</th>\n",
       "      <td>49340</td>\n",
       "      <td>2007</td>\n",
       "      <td>37.0</td>\n",
       "      <td>Worcester,MA</td>\n",
       "    </tr>\n",
       "    <tr>\n",
       "      <th>3420</th>\n",
       "      <td>49340</td>\n",
       "      <td>2008</td>\n",
       "      <td>23.0</td>\n",
       "      <td>Worcester,MA</td>\n",
       "    </tr>\n",
       "    <tr>\n",
       "      <th>3421</th>\n",
       "      <td>49340</td>\n",
       "      <td>2009</td>\n",
       "      <td>25.0</td>\n",
       "      <td>Worcester,MA</td>\n",
       "    </tr>\n",
       "    <tr>\n",
       "      <th>3422</th>\n",
       "      <td>49340</td>\n",
       "      <td>2010</td>\n",
       "      <td>23.0</td>\n",
       "      <td>Worcester,MA</td>\n",
       "    </tr>\n",
       "    <tr>\n",
       "      <th>3423</th>\n",
       "      <td>49340</td>\n",
       "      <td>2011</td>\n",
       "      <td>22.0</td>\n",
       "      <td>Worcester,MA</td>\n",
       "    </tr>\n",
       "    <tr>\n",
       "      <th>3424</th>\n",
       "      <td>49340</td>\n",
       "      <td>2012</td>\n",
       "      <td>34.0</td>\n",
       "      <td>Worcester,MA</td>\n",
       "    </tr>\n",
       "    <tr>\n",
       "      <th>3425</th>\n",
       "      <td>49340</td>\n",
       "      <td>2013</td>\n",
       "      <td>25.0</td>\n",
       "      <td>Worcester,MA</td>\n",
       "    </tr>\n",
       "    <tr>\n",
       "      <th>3426</th>\n",
       "      <td>49340</td>\n",
       "      <td>2014</td>\n",
       "      <td>18.0</td>\n",
       "      <td>Worcester,MA</td>\n",
       "    </tr>\n",
       "  </tbody>\n",
       "</table>\n",
       "<p>3427 rows × 4 columns</p>\n",
       "</div>"
      ],
      "text/plain": [
       "       cbsa  year  murder            city\n",
       "0     10740  1970     0.0  Albuquerque,NM\n",
       "1     10740  1971     2.0  Albuquerque,NM\n",
       "2     10740  1972     0.0  Albuquerque,NM\n",
       "3     10740  1973     5.0  Albuquerque,NM\n",
       "4     10740  1974     4.0  Albuquerque,NM\n",
       "5     10740  1975     3.0  Albuquerque,NM\n",
       "6     10740  1976     2.0  Albuquerque,NM\n",
       "7     10740  1977     3.0  Albuquerque,NM\n",
       "8     10740  1978     4.0  Albuquerque,NM\n",
       "9     10740  1979     2.0  Albuquerque,NM\n",
       "10    10740  1980     4.0  Albuquerque,NM\n",
       "11    10740  1981     2.0  Albuquerque,NM\n",
       "12    10740  1982     4.0  Albuquerque,NM\n",
       "13    10740  1983    13.0  Albuquerque,NM\n",
       "14    10740  1984    21.0  Albuquerque,NM\n",
       "15    10740  1985     9.0  Albuquerque,NM\n",
       "16    10740  1986    23.0  Albuquerque,NM\n",
       "17    10740  1987    12.0  Albuquerque,NM\n",
       "18    10740  1988    26.0  Albuquerque,NM\n",
       "19    10740  1989    19.0  Albuquerque,NM\n",
       "20    10740  1990    17.0  Albuquerque,NM\n",
       "21    10740  1991    26.0  Albuquerque,NM\n",
       "22    10740  1992     2.0  Albuquerque,NM\n",
       "23    10740  1993     7.0  Albuquerque,NM\n",
       "24    10740  1994     7.0  Albuquerque,NM\n",
       "25    10740  1995     3.0  Albuquerque,NM\n",
       "26    10740  1996     4.0  Albuquerque,NM\n",
       "27    10740  1997     2.0  Albuquerque,NM\n",
       "28    10740  1998     0.0  Albuquerque,NM\n",
       "29    10740  1999     1.0  Albuquerque,NM\n",
       "...     ...   ...     ...             ...\n",
       "3397  49340  1985    21.0    Worcester,MA\n",
       "3398  49340  1986    27.0    Worcester,MA\n",
       "3399  49340  1987    23.0    Worcester,MA\n",
       "3400  49340  1988    20.0    Worcester,MA\n",
       "3401  49340  1989    16.0    Worcester,MA\n",
       "3402  49340  1990    14.0    Worcester,MA\n",
       "3403  49340  1991    26.0    Worcester,MA\n",
       "3404  49340  1992    19.0    Worcester,MA\n",
       "3405  49340  1993    10.0    Worcester,MA\n",
       "3406  49340  1994    17.0    Worcester,MA\n",
       "3407  49340  1995    22.0    Worcester,MA\n",
       "3408  49340  1996    11.0    Worcester,MA\n",
       "3409  49340  1997    26.0    Worcester,MA\n",
       "3410  49340  1998    23.0    Worcester,MA\n",
       "3411  49340  1999    21.0    Worcester,MA\n",
       "3412  49340  2000    17.0    Worcester,MA\n",
       "3413  49340  2001    25.0    Worcester,MA\n",
       "3414  49340  2002    18.0    Worcester,MA\n",
       "3415  49340  2003    16.0    Worcester,MA\n",
       "3416  49340  2004    26.0    Worcester,MA\n",
       "3417  49340  2005    31.0    Worcester,MA\n",
       "3418  49340  2006    31.0    Worcester,MA\n",
       "3419  49340  2007    37.0    Worcester,MA\n",
       "3420  49340  2008    23.0    Worcester,MA\n",
       "3421  49340  2009    25.0    Worcester,MA\n",
       "3422  49340  2010    23.0    Worcester,MA\n",
       "3423  49340  2011    22.0    Worcester,MA\n",
       "3424  49340  2012    34.0    Worcester,MA\n",
       "3425  49340  2013    25.0    Worcester,MA\n",
       "3426  49340  2014    18.0    Worcester,MA\n",
       "\n",
       "[3427 rows x 4 columns]"
      ]
     },
     "execution_count": 40,
     "metadata": {},
     "output_type": "execute_result"
    }
   ],
   "source": [
    "amdf"
   ]
  },
  {
   "cell_type": "code",
   "execution_count": 24,
   "metadata": {
    "collapsed": false
   },
   "outputs": [
    {
     "data": {
      "text/plain": [
       "<matplotlib.text.Text at 0x324458630>"
      ]
     },
     "execution_count": 24,
     "metadata": {},
     "output_type": "execute_result"
    },
    {
     "data": {
      "image/png": "[encoded data removed]",
      "text/plain": [
       "<matplotlib.figure.Figure at 0x298aa68d0>"
      ]
     },
     "metadata": {},
     "output_type": "display_data"
    }
   ],
   "source": [
    "national = amdf.groupby('year').agg(sum)\n",
    "fig = plt.figure()\n",
    "ax = fig.add_subplot(111)\n",
    "ax = national.murder.plot(ax = ax)\n",
    "ax.set_ylabel('Number of murders across all cities')"
   ]
  },
  {
   "cell_type": "code",
   "execution_count": 41,
   "metadata": {
    "collapsed": false
   },
   "outputs": [
    {
     "data": {
      "text/plain": [
       "<matplotlib.axes._subplots.AxesSubplot at 0x2d26a1d68>"
      ]
     },
     "execution_count": 41,
     "metadata": {},
     "output_type": "execute_result"
    },
    {
     "data": {
      "image/png": "[encoded data removed]",
      "text/plain": [
       "<matplotlib.figure.Figure at 0x200f263c8>"
      ]
     },
     "metadata": {},
     "output_type": "display_data"
    }
   ],
   "source": [
    "amdf[amdf.city == 'Aurora,IL-Chicago,IL'].murder.plot()"
   ]
  },
  {
   "cell_type": "code",
   "execution_count": 42,
   "metadata": {
    "collapsed": false
   },
   "outputs": [],
   "source": [
    "amdf.to_csv('city_annual_murder_count.csv')"
   ]
  },
  {
   "cell_type": "code",
   "execution_count": null,
   "metadata": {
    "collapsed": false
   },
   "outputs": [],
   "source": [
    "chicagodf = amdf[amdf.cbsa == '16974']\n",
    "fig = plt.figure()\n",
    "ax = fig.add_subplot(211, facecolor='white')\n",
    "ax.plot(chicagodf.year, chicagodf.murder, color='steelblue')\n",
    "ax.set_ylabel('Annual Murders', fontdict={'color': 'steelblue'})\n",
    "ax.autoscale()\n",
    "\n",
    "\n",
    "plt.tight_layout()\n",
    "plt.savefig('figures/chicago_murders.eps')\n",
    "plt.savefig('figures/chicago_murders.png')"
   ]
  },
  {
   "cell_type": "code",
   "execution_count": null,
   "metadata": {
    "collapsed": false
   },
   "outputs": [],
   "source": [
    "yeardf = amdf.groupby('cbsa').agg(max).loc[:, ['city', 'murder']].sort_values('murder', ascending=False).reset_index()\n",
    "\n",
    "fig = plt.figure()\n",
    "ax = fig.add_subplot(111, facecolor='white')\n",
    "plt.bar(range(len(yeardf)), yeardf.murder)\n",
    "ax.set_xticks(list(range(len(yeardf))))\n",
    "ax.set_xticklabels(yeardf.city, rotation = 90, fontdict = {'fontsize':9});\n",
    "ax.set_ylabel('Max Annual Murder Count')\n",
    "plt.tight_layout()\n",
    "plt.savefig('figures/annual_murder_count.eps')\n",
    "plt.savefig('figures/annual_murder_count.png')"
   ]
  },
  {
   "cell_type": "code",
   "execution_count": 44,
   "metadata": {
    "collapsed": false
   },
   "outputs": [],
   "source": [
    "!open ."
   ]
  },
  {
   "cell_type": "code",
   "execution_count": null,
   "metadata": {
    "collapsed": true
   },
   "outputs": [],
   "source": []
  },
  {
   "cell_type": "code",
   "execution_count": null,
   "metadata": {
    "collapsed": true
   },
   "outputs": [],
   "source": []
  },
  {
   "cell_type": "code",
   "execution_count": null,
   "metadata": {
    "collapsed": true
   },
   "outputs": [],
   "source": []
  }
 ],
 "metadata": {
  "anaconda-cloud": {},
  "kernelspec": {
   "display_name": "Python [Root]",
   "language": "python",
   "name": "Python [Root]"
  },
  "language_info": {
   "codemirror_mode": {
    "name": "ipython",
    "version": 3
   },
   "file_extension": ".py",
   "mimetype": "text/x-python",
   "name": "python",
   "nbconvert_exporter": "python",
   "pygments_lexer": "ipython3",
   "version": "3.5.1"
  }
 },
 "nbformat": 4,
 "nbformat_minor": 0
}
