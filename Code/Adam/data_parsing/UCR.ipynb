{
 "cells": [
  {
   "cell_type": "code",
   "execution_count": 1,
   "metadata": {
    "collapsed": true
   },
   "outputs": [],
   "source": [
    "%matplotlib inline\n",
    "import pandas as pd\n",
    "import matplotlib.pyplot as plt\n",
    "import glob\n",
    "import numpy as np\n",
    "\n",
    "import sys\n",
    "sys.path.append('../support')\n",
    "import data_functions as dfunc\n",
    "\n",
    "%matplotlib inline\n",
    "import matplotlib.pyplot as plt\n",
    "import seaborn as sns\n",
    "sns.set_context('talk')\n",
    "sns.set_style({'font.family': 'sans-serif', \n",
    "               'font.sans-serif': 'Arial Narrow', \n",
    "               'font.size': 18})"
   ]
  },
  {
   "cell_type": "markdown",
   "metadata": {},
   "source": [
    "# Load the UCR data\n",
    "\n",
    "Convert the msa column head to ucrfips so that it will match the crosswalk"
   ]
  },
  {
   "cell_type": "code",
   "execution_count": 12,
   "metadata": {
    "collapsed": true
   },
   "outputs": [],
   "source": [
    "dfset = []\n",
    "for fname in glob.glob('../../Data/ucr_clean/*.csv'):\n",
    "    tdf = pd.read_csv(fname, index_col = 0, low_memory = False,\n",
    "                      dtype = {17: object })\n",
    "    tdf['year'] = int(fname.split('_')[-1].split('.csv')[0])\n",
    "    dfset.append(tdf)\n",
    "ucrdf = pd.concat(dfset)\n",
    "ucrdf.msa = ucrdf.msa.astype(object)\n",
    "ucrdf.rename(columns = {\"msa\": \"ucrfips\"}, inplace=True)"
   ]
  },
  {
   "cell_type": "markdown",
   "metadata": {},
   "source": [
    "# Load the city msa crosswalk"
   ]
  },
  {
   "cell_type": "code",
   "execution_count": 13,
   "metadata": {
    "collapsed": false
   },
   "outputs": [
    {
     "data": {
      "text/html": [
       "<div>\n",
       "<table border=\"1\" class=\"dataframe\">\n",
       "  <thead>\n",
       "    <tr style=\"text-align: right;\">\n",
       "      <th></th>\n",
       "      <th>City</th>\n",
       "      <th>State</th>\n",
       "      <th>fipst</th>\n",
       "      <th>stategips</th>\n",
       "      <th>ucrfips</th>\n",
       "      <th>fipscounty</th>\n",
       "      <th>cbsa</th>\n",
       "      <th>msa</th>\n",
       "      <th>ssast</th>\n",
       "    </tr>\n",
       "  </thead>\n",
       "  <tbody>\n",
       "    <tr>\n",
       "      <th>0</th>\n",
       "      <td>Montgomery</td>\n",
       "      <td>AL</td>\n",
       "      <td>1</td>\n",
       "      <td>1</td>\n",
       "      <td>1</td>\n",
       "      <td>1001</td>\n",
       "      <td>33860</td>\n",
       "      <td>5240</td>\n",
       "      <td>1</td>\n",
       "    </tr>\n",
       "    <tr>\n",
       "      <th>1</th>\n",
       "      <td>Montgomery</td>\n",
       "      <td>AL</td>\n",
       "      <td>1</td>\n",
       "      <td>1</td>\n",
       "      <td>51</td>\n",
       "      <td>1051</td>\n",
       "      <td>33860</td>\n",
       "      <td>5240</td>\n",
       "      <td>1</td>\n",
       "    </tr>\n",
       "    <tr>\n",
       "      <th>2</th>\n",
       "      <td>Montgomery</td>\n",
       "      <td>AL</td>\n",
       "      <td>1</td>\n",
       "      <td>1</td>\n",
       "      <td>85</td>\n",
       "      <td>1085</td>\n",
       "      <td>33860</td>\n",
       "      <td>01</td>\n",
       "      <td>1</td>\n",
       "    </tr>\n",
       "    <tr>\n",
       "      <th>3</th>\n",
       "      <td>Montgomery</td>\n",
       "      <td>AL</td>\n",
       "      <td>1</td>\n",
       "      <td>1</td>\n",
       "      <td>101</td>\n",
       "      <td>1101</td>\n",
       "      <td>33860</td>\n",
       "      <td>5240</td>\n",
       "      <td>1</td>\n",
       "    </tr>\n",
       "    <tr>\n",
       "      <th>4</th>\n",
       "      <td>Miami</td>\n",
       "      <td>FL</td>\n",
       "      <td>12</td>\n",
       "      <td>12</td>\n",
       "      <td>86</td>\n",
       "      <td>12086</td>\n",
       "      <td>33124</td>\n",
       "      <td>5000</td>\n",
       "      <td>10</td>\n",
       "    </tr>\n",
       "  </tbody>\n",
       "</table>\n",
       "</div>"
      ],
      "text/plain": [
       "         City State  fipst  stategips  ucrfips  fipscounty   cbsa   msa  ssast\n",
       "0  Montgomery    AL      1          1        1        1001  33860  5240      1\n",
       "1  Montgomery    AL      1          1       51        1051  33860  5240      1\n",
       "2  Montgomery    AL      1          1       85        1085  33860    01      1\n",
       "3  Montgomery    AL      1          1      101        1101  33860  5240      1\n",
       "4       Miami    FL     12         12       86       12086  33124  5000     10"
      ]
     },
     "execution_count": 13,
     "metadata": {},
     "output_type": "execute_result"
    }
   ],
   "source": [
    "city_cxdf = pd.read_csv('../../Data/crosswalks/city_msa_crosswalk.csv',\n",
    "                      dtype = {'msa': object, 'cbsa' : object}, \n",
    "                      index_col = 0)\n",
    "city_cxdf.head()"
   ]
  },
  {
   "cell_type": "markdown",
   "metadata": {},
   "source": [
    "# Make the area 'name' where two city names are concatenated"
   ]
  },
  {
   "cell_type": "code",
   "execution_count": 18,
   "metadata": {
    "collapsed": false
   },
   "outputs": [
    {
     "data": {
      "text/html": [
       "<div>\n",
       "<table border=\"1\" class=\"dataframe\">\n",
       "  <thead>\n",
       "    <tr style=\"text-align: right;\">\n",
       "      <th></th>\n",
       "      <th>areaname</th>\n",
       "      <th>cbsa</th>\n",
       "    </tr>\n",
       "  </thead>\n",
       "  <tbody>\n",
       "    <tr>\n",
       "      <th>0</th>\n",
       "      <td>Aurora,CO-Denver,CO</td>\n",
       "      <td>19740</td>\n",
       "    </tr>\n",
       "    <tr>\n",
       "      <th>1</th>\n",
       "      <td>Greensboro,NC</td>\n",
       "      <td>24660</td>\n",
       "    </tr>\n",
       "    <tr>\n",
       "      <th>2</th>\n",
       "      <td>Charlotte,NC</td>\n",
       "      <td>16740</td>\n",
       "    </tr>\n",
       "    <tr>\n",
       "      <th>3</th>\n",
       "      <td>Hartford,CT</td>\n",
       "      <td>25540</td>\n",
       "    </tr>\n",
       "    <tr>\n",
       "      <th>4</th>\n",
       "      <td>Louisville,KY</td>\n",
       "      <td>31140</td>\n",
       "    </tr>\n",
       "  </tbody>\n",
       "</table>\n",
       "</div>"
      ],
      "text/plain": [
       "              areaname   cbsa\n",
       "0  Aurora,CO-Denver,CO  19740\n",
       "1        Greensboro,NC  24660\n",
       "2         Charlotte,NC  16740\n",
       "3          Hartford,CT  25540\n",
       "4        Louisville,KY  31140"
      ]
     },
     "execution_count": 18,
     "metadata": {},
     "output_type": "execute_result"
    }
   ],
   "source": [
    "names = [','.join(lset) for lset in city_cxdf.loc[:, ['cbsa', 'City', 'State']].values.tolist()]\n",
    "names = list(set(names))\n",
    "name_dict = {}\n",
    "for nset in names:\n",
    "    cnum, city, state = nset.split(',')\n",
    "    loc = ','.join([city, state])\n",
    "    if cnum not in name_dict:\n",
    "        name_dict[cnum] = []\n",
    "    name_dict[cnum].append(loc)\n",
    "for cnum in name_dict:\n",
    "    name_dict[cnum] = '-'.join(name_dict[cnum])\n",
    "namedf = pd.DataFrame({'cbsa': list(name_dict.keys()), 'areaname':list(name_dict.values())})\n",
    "namedf.head()"
   ]
  },
  {
   "cell_type": "markdown",
   "metadata": {},
   "source": [
    "# Cut everything out of the ucr data that isn't in my msa crosswalk by merging"
   ]
  },
  {
   "cell_type": "code",
   "execution_count": 20,
   "metadata": {
    "collapsed": false
   },
   "outputs": [
    {
     "data": {
      "text/html": [
       "<div>\n",
       "<table border=\"1\" class=\"dataframe\">\n",
       "  <thead>\n",
       "    <tr style=\"text-align: right;\">\n",
       "      <th></th>\n",
       "      <th>id</th>\n",
       "      <th>state_code</th>\n",
       "      <th>ori</th>\n",
       "      <th>group</th>\n",
       "      <th>division</th>\n",
       "      <th>year</th>\n",
       "      <th>sequence_no</th>\n",
       "      <th>age</th>\n",
       "      <th>city_core</th>\n",
       "      <th>covered</th>\n",
       "      <th>...</th>\n",
       "      <th>dec_other2</th>\n",
       "      <th>City</th>\n",
       "      <th>State</th>\n",
       "      <th>fipst</th>\n",
       "      <th>stategips</th>\n",
       "      <th>fipscounty</th>\n",
       "      <th>cbsa</th>\n",
       "      <th>msa</th>\n",
       "      <th>ssast</th>\n",
       "      <th>areaname</th>\n",
       "    </tr>\n",
       "  </thead>\n",
       "  <tbody>\n",
       "    <tr>\n",
       "      <th>0</th>\n",
       "      <td>1</td>\n",
       "      <td>1.0</td>\n",
       "      <td>AL00100</td>\n",
       "      <td>9A</td>\n",
       "      <td>6.0</td>\n",
       "      <td>1960</td>\n",
       "      <td>NaN</td>\n",
       "      <td>16.0</td>\n",
       "      <td>N</td>\n",
       "      <td>NaN</td>\n",
       "      <td>...</td>\n",
       "      <td>0</td>\n",
       "      <td>Montgomery</td>\n",
       "      <td>AL</td>\n",
       "      <td>1</td>\n",
       "      <td>1</td>\n",
       "      <td>1101</td>\n",
       "      <td>33860</td>\n",
       "      <td>5240</td>\n",
       "      <td>1</td>\n",
       "      <td>Montgomery,AL</td>\n",
       "    </tr>\n",
       "    <tr>\n",
       "      <th>1</th>\n",
       "      <td>1</td>\n",
       "      <td>1.0</td>\n",
       "      <td>AL00100</td>\n",
       "      <td>9A</td>\n",
       "      <td>6.0</td>\n",
       "      <td>1960</td>\n",
       "      <td>NaN</td>\n",
       "      <td>16.0</td>\n",
       "      <td>N</td>\n",
       "      <td>NaN</td>\n",
       "      <td>...</td>\n",
       "      <td>0</td>\n",
       "      <td>Philadelphia</td>\n",
       "      <td>PA</td>\n",
       "      <td>42</td>\n",
       "      <td>42</td>\n",
       "      <td>42101</td>\n",
       "      <td>37964</td>\n",
       "      <td>6160</td>\n",
       "      <td>39</td>\n",
       "      <td>Philadelphia,PA</td>\n",
       "    </tr>\n",
       "    <tr>\n",
       "      <th>2</th>\n",
       "      <td>1</td>\n",
       "      <td>1.0</td>\n",
       "      <td>AL00100</td>\n",
       "      <td>9A</td>\n",
       "      <td>6.0</td>\n",
       "      <td>1960</td>\n",
       "      <td>NaN</td>\n",
       "      <td>16.0</td>\n",
       "      <td>N</td>\n",
       "      <td>NaN</td>\n",
       "      <td>...</td>\n",
       "      <td>0</td>\n",
       "      <td>Raleigh</td>\n",
       "      <td>NC</td>\n",
       "      <td>37</td>\n",
       "      <td>37</td>\n",
       "      <td>37101</td>\n",
       "      <td>39580</td>\n",
       "      <td>6640</td>\n",
       "      <td>34</td>\n",
       "      <td>Raleigh,NC</td>\n",
       "    </tr>\n",
       "    <tr>\n",
       "      <th>3</th>\n",
       "      <td>1</td>\n",
       "      <td>1.0</td>\n",
       "      <td>AL00101</td>\n",
       "      <td>4</td>\n",
       "      <td>6.0</td>\n",
       "      <td>1960</td>\n",
       "      <td>7550.0</td>\n",
       "      <td>16.0</td>\n",
       "      <td>N</td>\n",
       "      <td>NaN</td>\n",
       "      <td>...</td>\n",
       "      <td>0</td>\n",
       "      <td>Montgomery</td>\n",
       "      <td>AL</td>\n",
       "      <td>1</td>\n",
       "      <td>1</td>\n",
       "      <td>1101</td>\n",
       "      <td>33860</td>\n",
       "      <td>5240</td>\n",
       "      <td>1</td>\n",
       "      <td>Montgomery,AL</td>\n",
       "    </tr>\n",
       "    <tr>\n",
       "      <th>4</th>\n",
       "      <td>1</td>\n",
       "      <td>1.0</td>\n",
       "      <td>AL00101</td>\n",
       "      <td>4</td>\n",
       "      <td>6.0</td>\n",
       "      <td>1960</td>\n",
       "      <td>7550.0</td>\n",
       "      <td>16.0</td>\n",
       "      <td>N</td>\n",
       "      <td>NaN</td>\n",
       "      <td>...</td>\n",
       "      <td>0</td>\n",
       "      <td>Philadelphia</td>\n",
       "      <td>PA</td>\n",
       "      <td>42</td>\n",
       "      <td>42</td>\n",
       "      <td>42101</td>\n",
       "      <td>37964</td>\n",
       "      <td>6160</td>\n",
       "      <td>39</td>\n",
       "      <td>Philadelphia,PA</td>\n",
       "    </tr>\n",
       "  </tbody>\n",
       "</table>\n",
       "<p>5 rows × 537 columns</p>\n",
       "</div>"
      ],
      "text/plain": [
       "  id  state_code      ori group  division  year  sequence_no   age city_core  \\\n",
       "0  1         1.0  AL00100    9A       6.0  1960          NaN  16.0         N   \n",
       "1  1         1.0  AL00100    9A       6.0  1960          NaN  16.0         N   \n",
       "2  1         1.0  AL00100    9A       6.0  1960          NaN  16.0         N   \n",
       "3  1         1.0  AL00101     4       6.0  1960       7550.0  16.0         N   \n",
       "4  1         1.0  AL00101     4       6.0  1960       7550.0  16.0         N   \n",
       "\n",
       "  covered       ...         dec_other2          City  State  fipst  stategips  \\\n",
       "0     NaN       ...                  0    Montgomery     AL      1          1   \n",
       "1     NaN       ...                  0  Philadelphia     PA     42         42   \n",
       "2     NaN       ...                  0       Raleigh     NC     37         37   \n",
       "3     NaN       ...                  0    Montgomery     AL      1          1   \n",
       "4     NaN       ...                  0  Philadelphia     PA     42         42   \n",
       "\n",
       "   fipscounty   cbsa   msa ssast         areaname  \n",
       "0        1101  33860  5240     1    Montgomery,AL  \n",
       "1       42101  37964  6160    39  Philadelphia,PA  \n",
       "2       37101  39580  6640    34       Raleigh,NC  \n",
       "3        1101  33860  5240     1    Montgomery,AL  \n",
       "4       42101  37964  6160    39  Philadelphia,PA  \n",
       "\n",
       "[5 rows x 537 columns]"
      ]
     },
     "execution_count": 20,
     "metadata": {},
     "output_type": "execute_result"
    }
   ],
   "source": [
    "#Make sure ucrfips is an object to match\n",
    "ucrdf.ucrfips = ucrdf.ucrfips.astype(object)\n",
    "#Merge it together so that it is annotated with cbsas\n",
    "ucr_annodf = pd.merge(ucrdf, pd.merge(city_cxdf, namedf, on='cbsa'), on='ucrfips')\n",
    "#Print it out ot show\n",
    "ucr_annodf.head()"
   ]
  },
  {
   "cell_type": "markdown",
   "metadata": {},
   "source": [
    "# Now everything is merged, so I can try to put it all together by cbsas\n",
    "\n",
    "So convert \n",
    "\n",
    "cbsa year jan feb ....\n",
    "\n",
    "into:\n",
    "\n",
    "cbsa year jan murder\n",
    "\n",
    "cbsa year feb murder\n"
   ]
  },
  {
   "cell_type": "code",
   "execution_count": 30,
   "metadata": {
    "collapsed": false
   },
   "outputs": [],
   "source": [
    "def base_cleaner(x):\n",
    "    import re\n",
    "    if type(x) == str:\n",
    "        last_val = x.split('0')[-1]\n",
    "        if last_val == '':\n",
    "            return 0\n",
    "        else:\n",
    "            if last_val.isnumeric():\n",
    "                return int(last_val)\n",
    "            else:\n",
    "                #print(last_val)\n",
    "                return 0\n",
    "    else:\n",
    "        return x\n",
    "\n",
    "mo_names = [m + '_murder' for m in ['jan', 'feb', 'mar', 'apr', 'may', 'jun', \\\n",
    "                                    'jul', 'aug', 'sept', 'oct', 'nov', 'dec']]\n",
    "\n",
    "year_mon_lines = []\n",
    "for cbsa in ucr_annodf.cbsa.unique():\n",
    "    #Get the dataframe for just that cbsa\n",
    "    cbsa_ucrdf = ucr_annodf[ucr_annodf.cbsa == cbsa]\n",
    "    for i, mo_name in enumerate(mo_names):\n",
    "        for year, murder_count in cbsa_ucrdf.loc[:, ['year', mo_name]].values.tolist():\n",
    "            year_mon_lines.append([cbsa, int(year), i+1, base_cleaner(murder_count)])\n",
    "#Make it a dataframe\n",
    "ucrdata = pd.DataFrame(year_mon_lines, columns = ['cbsa', 'year', 'month', 'murder'])\n",
    "#Drop duplicates\n",
    "ucrdata.drop_duplicates(inplace=True)"
   ]
  },
  {
   "cell_type": "markdown",
   "metadata": {},
   "source": [
    "# Now check the annual count"
   ]
  },
  {
   "cell_type": "code",
   "execution_count": 33,
   "metadata": {
    "collapsed": false
   },
   "outputs": [
    {
     "data": {
      "image/png": "[encoded data removed]",
      "text/plain": [
       "<matplotlib.figure.Figure at 0x14172db70>"
      ]
     },
     "metadata": {},
     "output_type": "display_data"
    }
   ],
   "source": [
    "annualdf = ucrdata.groupby('year').agg(sum).loc[:, 'murder'].plot()"
   ]
  },
  {
   "cell_type": "markdown",
   "metadata": {},
   "source": [
    "# Ahhhh, finally back to something normal"
   ]
  },
  {
   "cell_type": "code",
   "execution_count": 43,
   "metadata": {
    "collapsed": true
   },
   "outputs": [],
   "source": [
    "ucr_city = pd.merge(ucrdata, namedf, on='cbsa')"
   ]
  },
  {
   "cell_type": "markdown",
   "metadata": {},
   "source": [
    "# Checking Chicago area...perfect"
   ]
  },
  {
   "cell_type": "code",
   "execution_count": 45,
   "metadata": {
    "collapsed": false
   },
   "outputs": [
    {
     "data": {
      "text/plain": [
       "<matplotlib.axes._subplots.AxesSubplot at 0x2927b85c0>"
      ]
     },
     "execution_count": 45,
     "metadata": {},
     "output_type": "execute_result"
    },
    {
     "data": {
      "image/png": "[encoded data removed]",
      "text/plain": [
       "<matplotlib.figure.Figure at 0x2932b5da0>"
      ]
     },
     "metadata": {},
     "output_type": "display_data"
    }
   ],
   "source": [
    "ucr_city[ucr_city.areaname == 'Aurora,IL-Chicago,IL'].groupby('year').agg(sum).loc[:, 'murder'].plot()"
   ]
  },
  {
   "cell_type": "markdown",
   "metadata": {},
   "source": [
    "# Now I want to condense all months for the same cbsa into one month"
   ]
  },
  {
   "cell_type": "code",
   "execution_count": 53,
   "metadata": {
    "collapsed": false
   },
   "outputs": [
    {
     "data": {
      "text/html": [
       "<div>\n",
       "<table border=\"1\" class=\"dataframe\">\n",
       "  <thead>\n",
       "    <tr style=\"text-align: right;\">\n",
       "      <th></th>\n",
       "      <th>cbsa</th>\n",
       "      <th>areaname</th>\n",
       "      <th>year</th>\n",
       "      <th>month</th>\n",
       "      <th>murder</th>\n",
       "    </tr>\n",
       "  </thead>\n",
       "  <tbody>\n",
       "    <tr>\n",
       "      <th>0</th>\n",
       "      <td>10740</td>\n",
       "      <td>Albuquerque,NM</td>\n",
       "      <td>1970</td>\n",
       "      <td>1</td>\n",
       "      <td>0.0</td>\n",
       "    </tr>\n",
       "    <tr>\n",
       "      <th>1</th>\n",
       "      <td>10740</td>\n",
       "      <td>Albuquerque,NM</td>\n",
       "      <td>1970</td>\n",
       "      <td>2</td>\n",
       "      <td>0.0</td>\n",
       "    </tr>\n",
       "    <tr>\n",
       "      <th>2</th>\n",
       "      <td>10740</td>\n",
       "      <td>Albuquerque,NM</td>\n",
       "      <td>1970</td>\n",
       "      <td>3</td>\n",
       "      <td>0.0</td>\n",
       "    </tr>\n",
       "    <tr>\n",
       "      <th>3</th>\n",
       "      <td>10740</td>\n",
       "      <td>Albuquerque,NM</td>\n",
       "      <td>1970</td>\n",
       "      <td>4</td>\n",
       "      <td>0.0</td>\n",
       "    </tr>\n",
       "    <tr>\n",
       "      <th>4</th>\n",
       "      <td>10740</td>\n",
       "      <td>Albuquerque,NM</td>\n",
       "      <td>1970</td>\n",
       "      <td>5</td>\n",
       "      <td>0.0</td>\n",
       "    </tr>\n",
       "  </tbody>\n",
       "</table>\n",
       "</div>"
      ],
      "text/plain": [
       "    cbsa        areaname  year  month  murder\n",
       "0  10740  Albuquerque,NM  1970      1     0.0\n",
       "1  10740  Albuquerque,NM  1970      2     0.0\n",
       "2  10740  Albuquerque,NM  1970      3     0.0\n",
       "3  10740  Albuquerque,NM  1970      4     0.0\n",
       "4  10740  Albuquerque,NM  1970      5     0.0"
      ]
     },
     "execution_count": 53,
     "metadata": {},
     "output_type": "execute_result"
    }
   ],
   "source": [
    "agg_ucr_city_month = ucr_city.groupby(['cbsa', 'areaname', 'year', 'month']).agg(sum).reset_index()\n",
    "agg_ucr_city_month.head()"
   ]
  },
  {
   "cell_type": "markdown",
   "metadata": {},
   "source": [
    "# And now condense all months into one year"
   ]
  },
  {
   "cell_type": "code",
   "execution_count": 55,
   "metadata": {
    "collapsed": false
   },
   "outputs": [
    {
     "data": {
      "text/html": [
       "<div>\n",
       "<table border=\"1\" class=\"dataframe\">\n",
       "  <thead>\n",
       "    <tr style=\"text-align: right;\">\n",
       "      <th></th>\n",
       "      <th>cbsa</th>\n",
       "      <th>areaname</th>\n",
       "      <th>year</th>\n",
       "      <th>murder</th>\n",
       "    </tr>\n",
       "  </thead>\n",
       "  <tbody>\n",
       "    <tr>\n",
       "      <th>0</th>\n",
       "      <td>10740</td>\n",
       "      <td>Albuquerque,NM</td>\n",
       "      <td>1970</td>\n",
       "      <td>0.0</td>\n",
       "    </tr>\n",
       "    <tr>\n",
       "      <th>1</th>\n",
       "      <td>10740</td>\n",
       "      <td>Albuquerque,NM</td>\n",
       "      <td>1971</td>\n",
       "      <td>2.0</td>\n",
       "    </tr>\n",
       "    <tr>\n",
       "      <th>2</th>\n",
       "      <td>10740</td>\n",
       "      <td>Albuquerque,NM</td>\n",
       "      <td>1972</td>\n",
       "      <td>0.0</td>\n",
       "    </tr>\n",
       "    <tr>\n",
       "      <th>3</th>\n",
       "      <td>10740</td>\n",
       "      <td>Albuquerque,NM</td>\n",
       "      <td>1973</td>\n",
       "      <td>4.0</td>\n",
       "    </tr>\n",
       "    <tr>\n",
       "      <th>4</th>\n",
       "      <td>10740</td>\n",
       "      <td>Albuquerque,NM</td>\n",
       "      <td>1974</td>\n",
       "      <td>3.0</td>\n",
       "    </tr>\n",
       "  </tbody>\n",
       "</table>\n",
       "</div>"
      ],
      "text/plain": [
       "    cbsa        areaname  year  murder\n",
       "0  10740  Albuquerque,NM  1970     0.0\n",
       "1  10740  Albuquerque,NM  1971     2.0\n",
       "2  10740  Albuquerque,NM  1972     0.0\n",
       "3  10740  Albuquerque,NM  1973     4.0\n",
       "4  10740  Albuquerque,NM  1974     3.0"
      ]
     },
     "execution_count": 55,
     "metadata": {},
     "output_type": "execute_result"
    }
   ],
   "source": [
    "agg_ucr_city_year = agg_ucr_city_month.groupby(['cbsa', 'areaname', 'year']).agg(sum).loc[:, ['murder']].reset_index()\n",
    "agg_ucr_city_year.head()"
   ]
  },
  {
   "cell_type": "code",
   "execution_count": 56,
   "metadata": {
    "collapsed": true
   },
   "outputs": [],
   "source": [
    "agg_ucr_city_year.to_csv('ucr_city_yearly.csv')"
   ]
  },
  {
   "cell_type": "code",
   "execution_count": 46,
   "metadata": {
    "collapsed": true
   },
   "outputs": [],
   "source": []
  },
  {
   "cell_type": "code",
   "execution_count": null,
   "metadata": {
    "collapsed": true
   },
   "outputs": [],
   "source": []
  }
 ],
 "metadata": {
  "anaconda-cloud": {},
  "kernelspec": {
   "display_name": "Python [Root]",
   "language": "python",
   "name": "Python [Root]"
  },
  "language_info": {
   "codemirror_mode": {
    "name": "ipython",
    "version": 3
   },
   "file_extension": ".py",
   "mimetype": "text/x-python",
   "name": "python",
   "nbconvert_exporter": "python",
   "pygments_lexer": "ipython3",
   "version": "3.5.1"
  }
 },
 "nbformat": 4,
 "nbformat_minor": 0
}
